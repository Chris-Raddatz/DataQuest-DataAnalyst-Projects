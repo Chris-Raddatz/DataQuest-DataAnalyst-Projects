{
 "cells": [
  {
   "cell_type": "markdown",
   "metadata": {
    "collapsed": true
   },
   "source": [
    "# Patterns of Jeopardy\n",
    "Jeopardy is a popular TV show in the US where participants answer questions to win money. It's been running for many years, and is a major force in popular culture. Imagine that you want to compete on Jeopardy, and you're looking for any way to win. In this project, we'll work with a dataset of Jeopardy questions to figure out some patterns in the questions that could help us win."
   ]
  },
  {
   "cell_type": "markdown",
   "metadata": {},
   "source": [
    "The dataset is named jeopardy.csv, and contains 20,000 rows from the beginning of a full dataset of Jeopardy questions, which you can download [here](https://www.reddit.com/r/datasets/comments/1uyd0t/200000_jeopardy_questions_in_a_json_file/). "
   ]
  },
  {
   "cell_type": "code",
   "execution_count": 49,
   "metadata": {
    "collapsed": true
   },
   "outputs": [],
   "source": [
    "import pandas as pd\n",
    "file = pd.read_csv('jeopardy.csv')"
   ]
  },
  {
   "cell_type": "code",
   "execution_count": 50,
   "metadata": {
    "collapsed": false,
    "scrolled": true
   },
   "outputs": [
    {
     "data": {
      "text/html": [
       "<div>\n",
       "<style scoped>\n",
       "    .dataframe tbody tr th:only-of-type {\n",
       "        vertical-align: middle;\n",
       "    }\n",
       "\n",
       "    .dataframe tbody tr th {\n",
       "        vertical-align: top;\n",
       "    }\n",
       "\n",
       "    .dataframe thead th {\n",
       "        text-align: right;\n",
       "    }\n",
       "</style>\n",
       "<table border=\"1\" class=\"dataframe\">\n",
       "  <thead>\n",
       "    <tr style=\"text-align: right;\">\n",
       "      <th></th>\n",
       "      <th>Show Number</th>\n",
       "      <th>Air Date</th>\n",
       "      <th>Round</th>\n",
       "      <th>Category</th>\n",
       "      <th>Value</th>\n",
       "      <th>Question</th>\n",
       "      <th>Answer</th>\n",
       "    </tr>\n",
       "  </thead>\n",
       "  <tbody>\n",
       "    <tr>\n",
       "      <th>0</th>\n",
       "      <td>4680</td>\n",
       "      <td>2004-12-31</td>\n",
       "      <td>Jeopardy!</td>\n",
       "      <td>HISTORY</td>\n",
       "      <td>$200</td>\n",
       "      <td>For the last 8 years of his life, Galileo was ...</td>\n",
       "      <td>Copernicus</td>\n",
       "    </tr>\n",
       "    <tr>\n",
       "      <th>1</th>\n",
       "      <td>4680</td>\n",
       "      <td>2004-12-31</td>\n",
       "      <td>Jeopardy!</td>\n",
       "      <td>ESPN's TOP 10 ALL-TIME ATHLETES</td>\n",
       "      <td>$200</td>\n",
       "      <td>No. 2: 1912 Olympian; football star at Carlisl...</td>\n",
       "      <td>Jim Thorpe</td>\n",
       "    </tr>\n",
       "    <tr>\n",
       "      <th>2</th>\n",
       "      <td>4680</td>\n",
       "      <td>2004-12-31</td>\n",
       "      <td>Jeopardy!</td>\n",
       "      <td>EVERYBODY TALKS ABOUT IT...</td>\n",
       "      <td>$200</td>\n",
       "      <td>The city of Yuma in this state has a record av...</td>\n",
       "      <td>Arizona</td>\n",
       "    </tr>\n",
       "    <tr>\n",
       "      <th>3</th>\n",
       "      <td>4680</td>\n",
       "      <td>2004-12-31</td>\n",
       "      <td>Jeopardy!</td>\n",
       "      <td>THE COMPANY LINE</td>\n",
       "      <td>$200</td>\n",
       "      <td>In 1963, live on \"The Art Linkletter Show\", th...</td>\n",
       "      <td>McDonald's</td>\n",
       "    </tr>\n",
       "    <tr>\n",
       "      <th>4</th>\n",
       "      <td>4680</td>\n",
       "      <td>2004-12-31</td>\n",
       "      <td>Jeopardy!</td>\n",
       "      <td>EPITAPHS &amp; TRIBUTES</td>\n",
       "      <td>$200</td>\n",
       "      <td>Signer of the Dec. of Indep., framer of the Co...</td>\n",
       "      <td>John Adams</td>\n",
       "    </tr>\n",
       "  </tbody>\n",
       "</table>\n",
       "</div>"
      ],
      "text/plain": [
       "   Show Number    Air Date      Round                         Category  Value  \\\n",
       "0         4680  2004-12-31  Jeopardy!                          HISTORY   $200   \n",
       "1         4680  2004-12-31  Jeopardy!  ESPN's TOP 10 ALL-TIME ATHLETES   $200   \n",
       "2         4680  2004-12-31  Jeopardy!      EVERYBODY TALKS ABOUT IT...   $200   \n",
       "3         4680  2004-12-31  Jeopardy!                 THE COMPANY LINE   $200   \n",
       "4         4680  2004-12-31  Jeopardy!              EPITAPHS & TRIBUTES   $200   \n",
       "\n",
       "                                            Question      Answer  \n",
       "0  For the last 8 years of his life, Galileo was ...  Copernicus  \n",
       "1  No. 2: 1912 Olympian; football star at Carlisl...  Jim Thorpe  \n",
       "2  The city of Yuma in this state has a record av...     Arizona  \n",
       "3  In 1963, live on \"The Art Linkletter Show\", th...  McDonald's  \n",
       "4  Signer of the Dec. of Indep., framer of the Co...  John Adams  "
      ]
     },
     "execution_count": 50,
     "metadata": {},
     "output_type": "execute_result"
    }
   ],
   "source": [
    "file.head()"
   ]
  },
  {
   "cell_type": "code",
   "execution_count": 51,
   "metadata": {
    "collapsed": false
   },
   "outputs": [
    {
     "data": {
      "text/plain": [
       "Index(['Show Number', ' Air Date', ' Round', ' Category', ' Value',\n",
       "       ' Question', ' Answer'],\n",
       "      dtype='object')"
      ]
     },
     "execution_count": 51,
     "metadata": {},
     "output_type": "execute_result"
    }
   ],
   "source": [
    "file.columns"
   ]
  },
  {
   "cell_type": "code",
   "execution_count": 52,
   "metadata": {
    "collapsed": false
   },
   "outputs": [
    {
     "name": "stdout",
     "output_type": "stream",
     "text": [
      "<class 'pandas.core.frame.DataFrame'>\n",
      "RangeIndex: 19999 entries, 0 to 19998\n",
      "Data columns (total 7 columns):\n",
      "Show Number    19999 non-null int64\n",
      " Air Date      19999 non-null object\n",
      " Round         19999 non-null object\n",
      " Category      19999 non-null object\n",
      " Value         19999 non-null object\n",
      " Question      19999 non-null object\n",
      " Answer        19999 non-null object\n",
      "dtypes: int64(1), object(6)\n",
      "memory usage: 1.1+ MB\n"
     ]
    }
   ],
   "source": [
    "file.info()"
   ]
  },
  {
   "cell_type": "markdown",
   "metadata": {},
   "source": [
    "We see there are 7 columns present in the dataset:\n",
    "- Show Number: the Jeopardy episode number\n",
    "- Air Date: the date the episode aired\n",
    "- Round: the round of Jeopardy\n",
    "- Category: the category of the question\n",
    "- Value: the number of dollars the correct answer is worth\n",
    "- Question: the text of the question\n",
    "- Answer: the text of the answer\n",
    "\n",
    "There are also empty spaces in front of some of the names of the columns, let's remove those. "
   ]
  },
  {
   "cell_type": "code",
   "execution_count": 53,
   "metadata": {
    "collapsed": true
   },
   "outputs": [],
   "source": [
    "file.columns = file.columns.str.strip() # Removes white spaces"
   ]
  },
  {
   "cell_type": "markdown",
   "metadata": {},
   "source": [
    "### Normalize Question, Answer and Value Columns\n",
    "Before analysis, we need to normalize all of the text columns by transforming values to lower case and removing punctuation. "
   ]
  },
  {
   "cell_type": "code",
   "execution_count": 54,
   "metadata": {
    "collapsed": true
   },
   "outputs": [],
   "source": [
    "import string\n",
    "def normalize(inputs):\n",
    "    inputs = inputs.lower() #Converts to lower-case\n",
    "    inputs = inputs.translate(str.maketrans('','', string.punctuation))\n",
    "    # The translate() method typically takes a translation table\n",
    "    # maketrans method here takes three arguments, \n",
    "    #the first two of which are empty strings, \n",
    "    #and the third is the list of punctuation we want to remove.\n",
    "    \n",
    "    return inputs"
   ]
  },
  {
   "cell_type": "code",
   "execution_count": 55,
   "metadata": {
    "collapsed": false
   },
   "outputs": [],
   "source": [
    "file['clean_question'] = file['Question'].apply(normalize)\n",
    "file['clean_answer'] = file['Answer'].apply(normalize)"
   ]
  },
  {
   "cell_type": "code",
   "execution_count": 56,
   "metadata": {
    "collapsed": false
   },
   "outputs": [
    {
     "data": {
      "text/html": [
       "<div>\n",
       "<style scoped>\n",
       "    .dataframe tbody tr th:only-of-type {\n",
       "        vertical-align: middle;\n",
       "    }\n",
       "\n",
       "    .dataframe tbody tr th {\n",
       "        vertical-align: top;\n",
       "    }\n",
       "\n",
       "    .dataframe thead th {\n",
       "        text-align: right;\n",
       "    }\n",
       "</style>\n",
       "<table border=\"1\" class=\"dataframe\">\n",
       "  <thead>\n",
       "    <tr style=\"text-align: right;\">\n",
       "      <th></th>\n",
       "      <th>Question</th>\n",
       "      <th>Answer</th>\n",
       "      <th>clean_question</th>\n",
       "      <th>clean_answer</th>\n",
       "    </tr>\n",
       "  </thead>\n",
       "  <tbody>\n",
       "    <tr>\n",
       "      <th>0</th>\n",
       "      <td>For the last 8 years of his life, Galileo was ...</td>\n",
       "      <td>Copernicus</td>\n",
       "      <td>for the last 8 years of his life galileo was u...</td>\n",
       "      <td>copernicus</td>\n",
       "    </tr>\n",
       "    <tr>\n",
       "      <th>1</th>\n",
       "      <td>No. 2: 1912 Olympian; football star at Carlisl...</td>\n",
       "      <td>Jim Thorpe</td>\n",
       "      <td>no 2 1912 olympian football star at carlisle i...</td>\n",
       "      <td>jim thorpe</td>\n",
       "    </tr>\n",
       "    <tr>\n",
       "      <th>2</th>\n",
       "      <td>The city of Yuma in this state has a record av...</td>\n",
       "      <td>Arizona</td>\n",
       "      <td>the city of yuma in this state has a record av...</td>\n",
       "      <td>arizona</td>\n",
       "    </tr>\n",
       "    <tr>\n",
       "      <th>3</th>\n",
       "      <td>In 1963, live on \"The Art Linkletter Show\", th...</td>\n",
       "      <td>McDonald's</td>\n",
       "      <td>in 1963 live on the art linkletter show this c...</td>\n",
       "      <td>mcdonalds</td>\n",
       "    </tr>\n",
       "    <tr>\n",
       "      <th>4</th>\n",
       "      <td>Signer of the Dec. of Indep., framer of the Co...</td>\n",
       "      <td>John Adams</td>\n",
       "      <td>signer of the dec of indep framer of the const...</td>\n",
       "      <td>john adams</td>\n",
       "    </tr>\n",
       "    <tr>\n",
       "      <th>5</th>\n",
       "      <td>In the title of an Aesop fable, this insect sh...</td>\n",
       "      <td>the ant</td>\n",
       "      <td>in the title of an aesop fable this insect sha...</td>\n",
       "      <td>the ant</td>\n",
       "    </tr>\n",
       "    <tr>\n",
       "      <th>6</th>\n",
       "      <td>Built in 312 B.C. to link Rome &amp; the South of ...</td>\n",
       "      <td>the Appian Way</td>\n",
       "      <td>built in 312 bc to link rome  the south of ita...</td>\n",
       "      <td>the appian way</td>\n",
       "    </tr>\n",
       "    <tr>\n",
       "      <th>7</th>\n",
       "      <td>No. 8: 30 steals for the Birmingham Barons; 2,...</td>\n",
       "      <td>Michael Jordan</td>\n",
       "      <td>no 8 30 steals for the birmingham barons 2306 ...</td>\n",
       "      <td>michael jordan</td>\n",
       "    </tr>\n",
       "    <tr>\n",
       "      <th>8</th>\n",
       "      <td>In the winter of 1971-72, a record 1,122 inche...</td>\n",
       "      <td>Washington</td>\n",
       "      <td>in the winter of 197172 a record 1122 inches o...</td>\n",
       "      <td>washington</td>\n",
       "    </tr>\n",
       "    <tr>\n",
       "      <th>9</th>\n",
       "      <td>This housewares store was named for the packag...</td>\n",
       "      <td>Crate &amp; Barrel</td>\n",
       "      <td>this housewares store was named for the packag...</td>\n",
       "      <td>crate  barrel</td>\n",
       "    </tr>\n",
       "    <tr>\n",
       "      <th>10</th>\n",
       "      <td>\"And away we go\"</td>\n",
       "      <td>Jackie Gleason</td>\n",
       "      <td>and away we go</td>\n",
       "      <td>jackie gleason</td>\n",
       "    </tr>\n",
       "    <tr>\n",
       "      <th>11</th>\n",
       "      <td>Cows regurgitate this from the first stomach t...</td>\n",
       "      <td>the cud</td>\n",
       "      <td>cows regurgitate this from the first stomach t...</td>\n",
       "      <td>the cud</td>\n",
       "    </tr>\n",
       "    <tr>\n",
       "      <th>12</th>\n",
       "      <td>In 1000 Rajaraja I of the Cholas battled to ta...</td>\n",
       "      <td>Ceylon (or Sri Lanka)</td>\n",
       "      <td>in 1000 rajaraja i of the cholas battled to ta...</td>\n",
       "      <td>ceylon or sri lanka</td>\n",
       "    </tr>\n",
       "    <tr>\n",
       "      <th>13</th>\n",
       "      <td>No. 1: Lettered in hoops, football &amp; lacrosse ...</td>\n",
       "      <td>Jim Brown</td>\n",
       "      <td>no 1 lettered in hoops football  lacrosse at s...</td>\n",
       "      <td>jim brown</td>\n",
       "    </tr>\n",
       "    <tr>\n",
       "      <th>14</th>\n",
       "      <td>On June 28, 1994 the nat'l weather service beg...</td>\n",
       "      <td>the UV index</td>\n",
       "      <td>on june 28 1994 the natl weather service began...</td>\n",
       "      <td>the uv index</td>\n",
       "    </tr>\n",
       "    <tr>\n",
       "      <th>15</th>\n",
       "      <td>This company's Accutron watch, introduced in 1...</td>\n",
       "      <td>Bulova</td>\n",
       "      <td>this companys accutron watch introduced in 196...</td>\n",
       "      <td>bulova</td>\n",
       "    </tr>\n",
       "    <tr>\n",
       "      <th>16</th>\n",
       "      <td>Outlaw: \"Murdered by a traitor and a coward wh...</td>\n",
       "      <td>Jesse James</td>\n",
       "      <td>outlaw murdered by a traitor and a coward whos...</td>\n",
       "      <td>jesse james</td>\n",
       "    </tr>\n",
       "    <tr>\n",
       "      <th>17</th>\n",
       "      <td>A small demon, or a mischievous child (who mig...</td>\n",
       "      <td>imp</td>\n",
       "      <td>a small demon or a mischievous child who might...</td>\n",
       "      <td>imp</td>\n",
       "    </tr>\n",
       "    <tr>\n",
       "      <th>18</th>\n",
       "      <td>Karl led the first of these Marxist organizati...</td>\n",
       "      <td>the International</td>\n",
       "      <td>karl led the first of these marxist organizati...</td>\n",
       "      <td>the international</td>\n",
       "    </tr>\n",
       "    <tr>\n",
       "      <th>19</th>\n",
       "      <td>No. 10: FB/LB for Columbia U. in the 1920s; MV...</td>\n",
       "      <td>(Lou) Gehrig</td>\n",
       "      <td>no 10 fblb for columbia u in the 1920s mvp for...</td>\n",
       "      <td>lou gehrig</td>\n",
       "    </tr>\n",
       "    <tr>\n",
       "      <th>20</th>\n",
       "      <td>Africa's lowest temperature was 11 degrees bel...</td>\n",
       "      <td>Morocco</td>\n",
       "      <td>africas lowest temperature was 11 degrees belo...</td>\n",
       "      <td>morocco</td>\n",
       "    </tr>\n",
       "    <tr>\n",
       "      <th>21</th>\n",
       "      <td>Edward Teller &amp; this man partnered in 1898 to ...</td>\n",
       "      <td>(Paul) Bonwit</td>\n",
       "      <td>edward teller  this man partnered in 1898 to s...</td>\n",
       "      <td>paul bonwit</td>\n",
       "    </tr>\n",
       "    <tr>\n",
       "      <th>22</th>\n",
       "      <td>1939 Oscar winner: \"...you are a credit to you...</td>\n",
       "      <td>Hattie McDaniel (for her role in Gone with the...</td>\n",
       "      <td>1939 oscar winner you are a credit to your cra...</td>\n",
       "      <td>hattie mcdaniel for her role in gone with the ...</td>\n",
       "    </tr>\n",
       "    <tr>\n",
       "      <th>23</th>\n",
       "      <td>In geologic time one of these, shorter than an...</td>\n",
       "      <td>era</td>\n",
       "      <td>in geologic time one of these shorter than an ...</td>\n",
       "      <td>era</td>\n",
       "    </tr>\n",
       "    <tr>\n",
       "      <th>24</th>\n",
       "      <td>This Asian political party was founded in 1885...</td>\n",
       "      <td>the Congress Party</td>\n",
       "      <td>this asian political party was founded in 1885...</td>\n",
       "      <td>the congress party</td>\n",
       "    </tr>\n",
       "    <tr>\n",
       "      <th>25</th>\n",
       "      <td>No. 5: Only center to lead the NBA in assists;...</td>\n",
       "      <td>(Wilt) Chamberlain</td>\n",
       "      <td>no 5 only center to lead the nba in assists tr...</td>\n",
       "      <td>wilt chamberlain</td>\n",
       "    </tr>\n",
       "    <tr>\n",
       "      <th>26</th>\n",
       "      <td>The Kirschner brothers, Don &amp; Bill, named this...</td>\n",
       "      <td>K2</td>\n",
       "      <td>the kirschner brothers don  bill named this sk...</td>\n",
       "      <td>k2</td>\n",
       "    </tr>\n",
       "    <tr>\n",
       "      <th>27</th>\n",
       "      <td>Revolutionary War hero: \"His spirit is in Verm...</td>\n",
       "      <td>Ethan Allen</td>\n",
       "      <td>revolutionary war hero his spirit is in vermon...</td>\n",
       "      <td>ethan allen</td>\n",
       "    </tr>\n",
       "    <tr>\n",
       "      <th>28</th>\n",
       "      <td>A single layer of paper, or to perform one's c...</td>\n",
       "      <td>ply</td>\n",
       "      <td>a single layer of paper or to perform ones cra...</td>\n",
       "      <td>ply</td>\n",
       "    </tr>\n",
       "    <tr>\n",
       "      <th>29</th>\n",
       "      <td>&lt;a href=\"http://www.j-archive.com/media/2004-1...</td>\n",
       "      <td>Horton</td>\n",
       "      <td>a hrefhttpwwwjarchivecommedia20041231dj23mp3be...</td>\n",
       "      <td>horton</td>\n",
       "    </tr>\n",
       "    <tr>\n",
       "      <th>...</th>\n",
       "      <td>...</td>\n",
       "      <td>...</td>\n",
       "      <td>...</td>\n",
       "      <td>...</td>\n",
       "    </tr>\n",
       "    <tr>\n",
       "      <th>19969</th>\n",
       "      <td>In 1960 the last of these locomotives was reti...</td>\n",
       "      <td>steam engines</td>\n",
       "      <td>in 1960 the last of these locomotives was reti...</td>\n",
       "      <td>steam engines</td>\n",
       "    </tr>\n",
       "    <tr>\n",
       "      <th>19970</th>\n",
       "      <td>Kate: \"if I be waspish, best beware my sting\";...</td>\n",
       "      <td>Petruchio</td>\n",
       "      <td>kate if i be waspish best beware my sting his ...</td>\n",
       "      <td>petruchio</td>\n",
       "    </tr>\n",
       "    <tr>\n",
       "      <th>19971</th>\n",
       "      <td>This private college in Northern California bo...</td>\n",
       "      <td>Stanford University</td>\n",
       "      <td>this private college in northern california bo...</td>\n",
       "      <td>stanford university</td>\n",
       "    </tr>\n",
       "    <tr>\n",
       "      <th>19972</th>\n",
       "      <td>She voiced Princess Pea in \"The Tale of Desper...</td>\n",
       "      <td>Emma Watson</td>\n",
       "      <td>she voiced princess pea in the tale of despere...</td>\n",
       "      <td>emma watson</td>\n",
       "    </tr>\n",
       "    <tr>\n",
       "      <th>19973</th>\n",
       "      <td>It's the name of the long-awaited new White Ho...</td>\n",
       "      <td>Bo</td>\n",
       "      <td>its the name of the longawaited new white hous...</td>\n",
       "      <td>bo</td>\n",
       "    </tr>\n",
       "    <tr>\n",
       "      <th>19974</th>\n",
       "      <td>Langdon in \"Angels &amp; Demons\" is looking for &lt;a...</td>\n",
       "      <td>an antimatter bomb</td>\n",
       "      <td>langdon in angels  demons is looking for a hre...</td>\n",
       "      <td>an antimatter bomb</td>\n",
       "    </tr>\n",
       "    <tr>\n",
       "      <th>19975</th>\n",
       "      <td>In the 1600s most of New York State was occupi...</td>\n",
       "      <td>the Iroquois</td>\n",
       "      <td>in the 1600s most of new york state was occupi...</td>\n",
       "      <td>the iroquois</td>\n",
       "    </tr>\n",
       "    <tr>\n",
       "      <th>19976</th>\n",
       "      <td>Marina's dad (need a hint? he rules Tyre)</td>\n",
       "      <td>Pericles</td>\n",
       "      <td>marinas dad need a hint he rules tyre</td>\n",
       "      <td>pericles</td>\n",
       "    </tr>\n",
       "    <tr>\n",
       "      <th>19977</th>\n",
       "      <td>Presidential kids are welcome at this New Orle...</td>\n",
       "      <td>Tulane</td>\n",
       "      <td>presidential kids are welcome at this new orle...</td>\n",
       "      <td>tulane</td>\n",
       "    </tr>\n",
       "    <tr>\n",
       "      <th>19978</th>\n",
       "      <td>She didn't vamp it up &amp; did a bella job as Em ...</td>\n",
       "      <td>Kristen Stewart</td>\n",
       "      <td>she didnt vamp it up  did a bella job as em in...</td>\n",
       "      <td>kristen stewart</td>\n",
       "    </tr>\n",
       "    <tr>\n",
       "      <th>19979</th>\n",
       "      <td>Third syllable intoned by the giant who smells...</td>\n",
       "      <td>fo</td>\n",
       "      <td>third syllable intoned by the giant who smells...</td>\n",
       "      <td>fo</td>\n",
       "    </tr>\n",
       "    <tr>\n",
       "      <th>19980</th>\n",
       "      <td>Much of \"Angels &amp; Demons\" takes place at one o...</td>\n",
       "      <td>a conclave</td>\n",
       "      <td>much of angels  demons takes place at one of a...</td>\n",
       "      <td>a conclave</td>\n",
       "    </tr>\n",
       "    <tr>\n",
       "      <th>19981</th>\n",
       "      <td>In 1899 Secretary of State John Hay proclaimed...</td>\n",
       "      <td>open-door policy</td>\n",
       "      <td>in 1899 secretary of state john hay proclaimed...</td>\n",
       "      <td>opendoor policy</td>\n",
       "    </tr>\n",
       "    <tr>\n",
       "      <th>19982</th>\n",
       "      <td>Fruity surname of Peter in \"A Midsummer Night'...</td>\n",
       "      <td>Quince</td>\n",
       "      <td>fruity surname of peter in a midsummer nights ...</td>\n",
       "      <td>quince</td>\n",
       "    </tr>\n",
       "    <tr>\n",
       "      <th>19983</th>\n",
       "      <td>Quincy Jones, Kevin Eubanks &amp; Branford Marsali...</td>\n",
       "      <td>Berklee</td>\n",
       "      <td>quincy jones kevin eubanks  branford marsalis ...</td>\n",
       "      <td>berklee</td>\n",
       "    </tr>\n",
       "    <tr>\n",
       "      <th>19984</th>\n",
       "      <td>In 2009 she returned to being \"Fast &amp; Furious\"...</td>\n",
       "      <td>Michelle Rodriguez</td>\n",
       "      <td>in 2009 she returned to being fast  furious as...</td>\n",
       "      <td>michelle rodriguez</td>\n",
       "    </tr>\n",
       "    <tr>\n",
       "      <th>19985</th>\n",
       "      <td>The book of Genesis says this ancient city \"of...</td>\n",
       "      <td>Ur</td>\n",
       "      <td>the book of genesis says this ancient city of ...</td>\n",
       "      <td>ur</td>\n",
       "    </tr>\n",
       "    <tr>\n",
       "      <th>19986</th>\n",
       "      <td>\"Habakkuk and the Angel\" is one of a series of...</td>\n",
       "      <td>Bernini</td>\n",
       "      <td>habakkuk and the angel is one of a series of a...</td>\n",
       "      <td>bernini</td>\n",
       "    </tr>\n",
       "    <tr>\n",
       "      <th>19987</th>\n",
       "      <td>In medieval England, it meant the smallest uni...</td>\n",
       "      <td>atom</td>\n",
       "      <td>in medieval england it meant the smallest unit...</td>\n",
       "      <td>atom</td>\n",
       "    </tr>\n",
       "    <tr>\n",
       "      <th>19988</th>\n",
       "      <td>This Texas city is the largest in the U.S. to ...</td>\n",
       "      <td>Houston (Lee Brown)</td>\n",
       "      <td>this texas city is the largest in the us to ha...</td>\n",
       "      <td>houston lee brown</td>\n",
       "    </tr>\n",
       "    <tr>\n",
       "      <th>19989</th>\n",
       "      <td>...&amp; the Crickets</td>\n",
       "      <td>Buddy Holly</td>\n",
       "      <td>the crickets</td>\n",
       "      <td>buddy holly</td>\n",
       "    </tr>\n",
       "    <tr>\n",
       "      <th>19990</th>\n",
       "      <td>In the 990s this son of Erik the Red brought C...</td>\n",
       "      <td>Leif Ericson</td>\n",
       "      <td>in the 990s this son of erik the red brought c...</td>\n",
       "      <td>leif ericson</td>\n",
       "    </tr>\n",
       "    <tr>\n",
       "      <th>19991</th>\n",
       "      <td>Concerning a failed Windows 98 demonstration, ...</td>\n",
       "      <td>Bill Gates</td>\n",
       "      <td>concerning a failed windows 98 demonstration h...</td>\n",
       "      <td>bill gates</td>\n",
       "    </tr>\n",
       "    <tr>\n",
       "      <th>19992</th>\n",
       "      <td>This llama product is used to make hats, blank...</td>\n",
       "      <td>Wool</td>\n",
       "      <td>this llama product is used to make hats blanke...</td>\n",
       "      <td>wool</td>\n",
       "    </tr>\n",
       "    <tr>\n",
       "      <th>19993</th>\n",
       "      <td>In 1967 this company introduced its chocolate-...</td>\n",
       "      <td>Hostess</td>\n",
       "      <td>in 1967 this company introduced its chocolatec...</td>\n",
       "      <td>hostess</td>\n",
       "    </tr>\n",
       "    <tr>\n",
       "      <th>19994</th>\n",
       "      <td>Of 8, 12 or 18, the number of U.S. states that...</td>\n",
       "      <td>18</td>\n",
       "      <td>of 8 12 or 18 the number of us states that tou...</td>\n",
       "      <td>18</td>\n",
       "    </tr>\n",
       "    <tr>\n",
       "      <th>19995</th>\n",
       "      <td>...&amp; the New Power Generation</td>\n",
       "      <td>Prince</td>\n",
       "      <td>the new power generation</td>\n",
       "      <td>prince</td>\n",
       "    </tr>\n",
       "    <tr>\n",
       "      <th>19996</th>\n",
       "      <td>In 1589 he was appointed professor of mathemat...</td>\n",
       "      <td>Galileo</td>\n",
       "      <td>in 1589 he was appointed professor of mathemat...</td>\n",
       "      <td>galileo</td>\n",
       "    </tr>\n",
       "    <tr>\n",
       "      <th>19997</th>\n",
       "      <td>Before the grand jury she said, \"I'm really so...</td>\n",
       "      <td>Monica Lewinsky</td>\n",
       "      <td>before the grand jury she said im really sorry...</td>\n",
       "      <td>monica lewinsky</td>\n",
       "    </tr>\n",
       "    <tr>\n",
       "      <th>19998</th>\n",
       "      <td>Llamas are the heftiest South American members...</td>\n",
       "      <td>Camels</td>\n",
       "      <td>llamas are the heftiest south american members...</td>\n",
       "      <td>camels</td>\n",
       "    </tr>\n",
       "  </tbody>\n",
       "</table>\n",
       "<p>19999 rows × 4 columns</p>\n",
       "</div>"
      ],
      "text/plain": [
       "                                                Question  \\\n",
       "0      For the last 8 years of his life, Galileo was ...   \n",
       "1      No. 2: 1912 Olympian; football star at Carlisl...   \n",
       "2      The city of Yuma in this state has a record av...   \n",
       "3      In 1963, live on \"The Art Linkletter Show\", th...   \n",
       "4      Signer of the Dec. of Indep., framer of the Co...   \n",
       "5      In the title of an Aesop fable, this insect sh...   \n",
       "6      Built in 312 B.C. to link Rome & the South of ...   \n",
       "7      No. 8: 30 steals for the Birmingham Barons; 2,...   \n",
       "8      In the winter of 1971-72, a record 1,122 inche...   \n",
       "9      This housewares store was named for the packag...   \n",
       "10                                      \"And away we go\"   \n",
       "11     Cows regurgitate this from the first stomach t...   \n",
       "12     In 1000 Rajaraja I of the Cholas battled to ta...   \n",
       "13     No. 1: Lettered in hoops, football & lacrosse ...   \n",
       "14     On June 28, 1994 the nat'l weather service beg...   \n",
       "15     This company's Accutron watch, introduced in 1...   \n",
       "16     Outlaw: \"Murdered by a traitor and a coward wh...   \n",
       "17     A small demon, or a mischievous child (who mig...   \n",
       "18     Karl led the first of these Marxist organizati...   \n",
       "19     No. 10: FB/LB for Columbia U. in the 1920s; MV...   \n",
       "20     Africa's lowest temperature was 11 degrees bel...   \n",
       "21     Edward Teller & this man partnered in 1898 to ...   \n",
       "22     1939 Oscar winner: \"...you are a credit to you...   \n",
       "23     In geologic time one of these, shorter than an...   \n",
       "24     This Asian political party was founded in 1885...   \n",
       "25     No. 5: Only center to lead the NBA in assists;...   \n",
       "26     The Kirschner brothers, Don & Bill, named this...   \n",
       "27     Revolutionary War hero: \"His spirit is in Verm...   \n",
       "28     A single layer of paper, or to perform one's c...   \n",
       "29     <a href=\"http://www.j-archive.com/media/2004-1...   \n",
       "...                                                  ...   \n",
       "19969  In 1960 the last of these locomotives was reti...   \n",
       "19970  Kate: \"if I be waspish, best beware my sting\";...   \n",
       "19971  This private college in Northern California bo...   \n",
       "19972  She voiced Princess Pea in \"The Tale of Desper...   \n",
       "19973  It's the name of the long-awaited new White Ho...   \n",
       "19974  Langdon in \"Angels & Demons\" is looking for <a...   \n",
       "19975  In the 1600s most of New York State was occupi...   \n",
       "19976          Marina's dad (need a hint? he rules Tyre)   \n",
       "19977  Presidential kids are welcome at this New Orle...   \n",
       "19978  She didn't vamp it up & did a bella job as Em ...   \n",
       "19979  Third syllable intoned by the giant who smells...   \n",
       "19980  Much of \"Angels & Demons\" takes place at one o...   \n",
       "19981  In 1899 Secretary of State John Hay proclaimed...   \n",
       "19982  Fruity surname of Peter in \"A Midsummer Night'...   \n",
       "19983  Quincy Jones, Kevin Eubanks & Branford Marsali...   \n",
       "19984  In 2009 she returned to being \"Fast & Furious\"...   \n",
       "19985  The book of Genesis says this ancient city \"of...   \n",
       "19986  \"Habakkuk and the Angel\" is one of a series of...   \n",
       "19987  In medieval England, it meant the smallest uni...   \n",
       "19988  This Texas city is the largest in the U.S. to ...   \n",
       "19989                                  ...& the Crickets   \n",
       "19990  In the 990s this son of Erik the Red brought C...   \n",
       "19991  Concerning a failed Windows 98 demonstration, ...   \n",
       "19992  This llama product is used to make hats, blank...   \n",
       "19993  In 1967 this company introduced its chocolate-...   \n",
       "19994  Of 8, 12 or 18, the number of U.S. states that...   \n",
       "19995                      ...& the New Power Generation   \n",
       "19996  In 1589 he was appointed professor of mathemat...   \n",
       "19997  Before the grand jury she said, \"I'm really so...   \n",
       "19998  Llamas are the heftiest South American members...   \n",
       "\n",
       "                                                  Answer  \\\n",
       "0                                             Copernicus   \n",
       "1                                             Jim Thorpe   \n",
       "2                                                Arizona   \n",
       "3                                             McDonald's   \n",
       "4                                             John Adams   \n",
       "5                                                the ant   \n",
       "6                                         the Appian Way   \n",
       "7                                         Michael Jordan   \n",
       "8                                             Washington   \n",
       "9                                         Crate & Barrel   \n",
       "10                                        Jackie Gleason   \n",
       "11                                               the cud   \n",
       "12                                 Ceylon (or Sri Lanka)   \n",
       "13                                             Jim Brown   \n",
       "14                                          the UV index   \n",
       "15                                                Bulova   \n",
       "16                                           Jesse James   \n",
       "17                                                   imp   \n",
       "18                                     the International   \n",
       "19                                          (Lou) Gehrig   \n",
       "20                                               Morocco   \n",
       "21                                         (Paul) Bonwit   \n",
       "22     Hattie McDaniel (for her role in Gone with the...   \n",
       "23                                                   era   \n",
       "24                                    the Congress Party   \n",
       "25                                    (Wilt) Chamberlain   \n",
       "26                                                    K2   \n",
       "27                                           Ethan Allen   \n",
       "28                                                   ply   \n",
       "29                                                Horton   \n",
       "...                                                  ...   \n",
       "19969                                      steam engines   \n",
       "19970                                          Petruchio   \n",
       "19971                                Stanford University   \n",
       "19972                                        Emma Watson   \n",
       "19973                                                 Bo   \n",
       "19974                                 an antimatter bomb   \n",
       "19975                                       the Iroquois   \n",
       "19976                                           Pericles   \n",
       "19977                                             Tulane   \n",
       "19978                                    Kristen Stewart   \n",
       "19979                                                 fo   \n",
       "19980                                         a conclave   \n",
       "19981                                   open-door policy   \n",
       "19982                                             Quince   \n",
       "19983                                            Berklee   \n",
       "19984                                 Michelle Rodriguez   \n",
       "19985                                                 Ur   \n",
       "19986                                            Bernini   \n",
       "19987                                               atom   \n",
       "19988                                Houston (Lee Brown)   \n",
       "19989                                        Buddy Holly   \n",
       "19990                                       Leif Ericson   \n",
       "19991                                         Bill Gates   \n",
       "19992                                               Wool   \n",
       "19993                                            Hostess   \n",
       "19994                                                 18   \n",
       "19995                                             Prince   \n",
       "19996                                            Galileo   \n",
       "19997                                    Monica Lewinsky   \n",
       "19998                                             Camels   \n",
       "\n",
       "                                          clean_question  \\\n",
       "0      for the last 8 years of his life galileo was u...   \n",
       "1      no 2 1912 olympian football star at carlisle i...   \n",
       "2      the city of yuma in this state has a record av...   \n",
       "3      in 1963 live on the art linkletter show this c...   \n",
       "4      signer of the dec of indep framer of the const...   \n",
       "5      in the title of an aesop fable this insect sha...   \n",
       "6      built in 312 bc to link rome  the south of ita...   \n",
       "7      no 8 30 steals for the birmingham barons 2306 ...   \n",
       "8      in the winter of 197172 a record 1122 inches o...   \n",
       "9      this housewares store was named for the packag...   \n",
       "10                                        and away we go   \n",
       "11     cows regurgitate this from the first stomach t...   \n",
       "12     in 1000 rajaraja i of the cholas battled to ta...   \n",
       "13     no 1 lettered in hoops football  lacrosse at s...   \n",
       "14     on june 28 1994 the natl weather service began...   \n",
       "15     this companys accutron watch introduced in 196...   \n",
       "16     outlaw murdered by a traitor and a coward whos...   \n",
       "17     a small demon or a mischievous child who might...   \n",
       "18     karl led the first of these marxist organizati...   \n",
       "19     no 10 fblb for columbia u in the 1920s mvp for...   \n",
       "20     africas lowest temperature was 11 degrees belo...   \n",
       "21     edward teller  this man partnered in 1898 to s...   \n",
       "22     1939 oscar winner you are a credit to your cra...   \n",
       "23     in geologic time one of these shorter than an ...   \n",
       "24     this asian political party was founded in 1885...   \n",
       "25     no 5 only center to lead the nba in assists tr...   \n",
       "26     the kirschner brothers don  bill named this sk...   \n",
       "27     revolutionary war hero his spirit is in vermon...   \n",
       "28     a single layer of paper or to perform ones cra...   \n",
       "29     a hrefhttpwwwjarchivecommedia20041231dj23mp3be...   \n",
       "...                                                  ...   \n",
       "19969  in 1960 the last of these locomotives was reti...   \n",
       "19970  kate if i be waspish best beware my sting his ...   \n",
       "19971  this private college in northern california bo...   \n",
       "19972  she voiced princess pea in the tale of despere...   \n",
       "19973  its the name of the longawaited new white hous...   \n",
       "19974  langdon in angels  demons is looking for a hre...   \n",
       "19975  in the 1600s most of new york state was occupi...   \n",
       "19976              marinas dad need a hint he rules tyre   \n",
       "19977  presidential kids are welcome at this new orle...   \n",
       "19978  she didnt vamp it up  did a bella job as em in...   \n",
       "19979  third syllable intoned by the giant who smells...   \n",
       "19980  much of angels  demons takes place at one of a...   \n",
       "19981  in 1899 secretary of state john hay proclaimed...   \n",
       "19982  fruity surname of peter in a midsummer nights ...   \n",
       "19983  quincy jones kevin eubanks  branford marsalis ...   \n",
       "19984  in 2009 she returned to being fast  furious as...   \n",
       "19985  the book of genesis says this ancient city of ...   \n",
       "19986  habakkuk and the angel is one of a series of a...   \n",
       "19987  in medieval england it meant the smallest unit...   \n",
       "19988  this texas city is the largest in the us to ha...   \n",
       "19989                                       the crickets   \n",
       "19990  in the 990s this son of erik the red brought c...   \n",
       "19991  concerning a failed windows 98 demonstration h...   \n",
       "19992  this llama product is used to make hats blanke...   \n",
       "19993  in 1967 this company introduced its chocolatec...   \n",
       "19994  of 8 12 or 18 the number of us states that tou...   \n",
       "19995                           the new power generation   \n",
       "19996  in 1589 he was appointed professor of mathemat...   \n",
       "19997  before the grand jury she said im really sorry...   \n",
       "19998  llamas are the heftiest south american members...   \n",
       "\n",
       "                                            clean_answer  \n",
       "0                                             copernicus  \n",
       "1                                             jim thorpe  \n",
       "2                                                arizona  \n",
       "3                                              mcdonalds  \n",
       "4                                             john adams  \n",
       "5                                                the ant  \n",
       "6                                         the appian way  \n",
       "7                                         michael jordan  \n",
       "8                                             washington  \n",
       "9                                          crate  barrel  \n",
       "10                                        jackie gleason  \n",
       "11                                               the cud  \n",
       "12                                   ceylon or sri lanka  \n",
       "13                                             jim brown  \n",
       "14                                          the uv index  \n",
       "15                                                bulova  \n",
       "16                                           jesse james  \n",
       "17                                                   imp  \n",
       "18                                     the international  \n",
       "19                                            lou gehrig  \n",
       "20                                               morocco  \n",
       "21                                           paul bonwit  \n",
       "22     hattie mcdaniel for her role in gone with the ...  \n",
       "23                                                   era  \n",
       "24                                    the congress party  \n",
       "25                                      wilt chamberlain  \n",
       "26                                                    k2  \n",
       "27                                           ethan allen  \n",
       "28                                                   ply  \n",
       "29                                                horton  \n",
       "...                                                  ...  \n",
       "19969                                      steam engines  \n",
       "19970                                          petruchio  \n",
       "19971                                stanford university  \n",
       "19972                                        emma watson  \n",
       "19973                                                 bo  \n",
       "19974                                 an antimatter bomb  \n",
       "19975                                       the iroquois  \n",
       "19976                                           pericles  \n",
       "19977                                             tulane  \n",
       "19978                                    kristen stewart  \n",
       "19979                                                 fo  \n",
       "19980                                         a conclave  \n",
       "19981                                    opendoor policy  \n",
       "19982                                             quince  \n",
       "19983                                            berklee  \n",
       "19984                                 michelle rodriguez  \n",
       "19985                                                 ur  \n",
       "19986                                            bernini  \n",
       "19987                                               atom  \n",
       "19988                                  houston lee brown  \n",
       "19989                                        buddy holly  \n",
       "19990                                       leif ericson  \n",
       "19991                                         bill gates  \n",
       "19992                                               wool  \n",
       "19993                                            hostess  \n",
       "19994                                                 18  \n",
       "19995                                             prince  \n",
       "19996                                            galileo  \n",
       "19997                                    monica lewinsky  \n",
       "19998                                             camels  \n",
       "\n",
       "[19999 rows x 4 columns]"
      ]
     },
     "execution_count": 56,
     "metadata": {},
     "output_type": "execute_result"
    }
   ],
   "source": [
    "file[['Question','Answer','clean_question','clean_answer']]"
   ]
  },
  {
   "cell_type": "markdown",
   "metadata": {},
   "source": [
    "### Normalizing other columns\n",
    "The value column should be numeric, for easier analysis. We will have to remove the dollar sign from each row and convert from text to numeric. Also the 'Air Date' column should be a datetime, not a string. "
   ]
  },
  {
   "cell_type": "code",
   "execution_count": 57,
   "metadata": {
    "collapsed": false
   },
   "outputs": [
    {
     "data": {
      "text/plain": [
       "$400      3892\n",
       "$800      2980\n",
       "$200      2784\n",
       "$600      1890\n",
       "$1000     1796\n",
       "$2000     1074\n",
       "$1200     1069\n",
       "$1600     1027\n",
       "$100       804\n",
       "$500       798\n",
       "$300       764\n",
       "None       336\n",
       "$1,000     184\n",
       "$2,000     149\n",
       "$3,000      70\n",
       "$1,500      50\n",
       "$1,200      42\n",
       "$4,000      32\n",
       "$5,000      23\n",
       "$1,800      22\n",
       "Name: Value, dtype: int64"
      ]
     },
     "execution_count": 57,
     "metadata": {},
     "output_type": "execute_result"
    }
   ],
   "source": [
    "file['Value'].value_counts()[:20]"
   ]
  },
  {
   "cell_type": "markdown",
   "metadata": {},
   "source": [
    "We can see that there is a value of 'none' being represented 336 times. Let's change that to zero to make it numeric and keep consistent with the other values in the column."
   ]
  },
  {
   "cell_type": "code",
   "execution_count": 58,
   "metadata": {
    "collapsed": true
   },
   "outputs": [],
   "source": [
    "def normalize_value(inputs):\n",
    "    inputs = inputs.lower()\n",
    "    inputs = inputs.translate(str.maketrans('','', string.punctuation))\n",
    "    if inputs == 'none': #If the value is none, transform it to 0\n",
    "        inputs = '0'\n",
    "    inputs = int(inputs)\n",
    "    return inputs"
   ]
  },
  {
   "cell_type": "code",
   "execution_count": 59,
   "metadata": {
    "collapsed": false
   },
   "outputs": [],
   "source": [
    "file['clean_value'] = file['Value'].apply(normalize_value)"
   ]
  },
  {
   "cell_type": "code",
   "execution_count": 60,
   "metadata": {
    "collapsed": false
   },
   "outputs": [
    {
     "data": {
      "text/plain": [
       "336"
      ]
     },
     "execution_count": 60,
     "metadata": {},
     "output_type": "execute_result"
    }
   ],
   "source": [
    "file['clean_value'].value_counts()[0] #Prints counts of 0 value"
   ]
  },
  {
   "cell_type": "markdown",
   "metadata": {},
   "source": [
    "So this worked correctly, 'none' was transformed to 0"
   ]
  },
  {
   "cell_type": "code",
   "execution_count": 61,
   "metadata": {
    "collapsed": false
   },
   "outputs": [
    {
     "name": "stdout",
     "output_type": "stream",
     "text": [
      "<class 'pandas.core.frame.DataFrame'>\n",
      "RangeIndex: 19999 entries, 0 to 19998\n",
      "Data columns (total 10 columns):\n",
      "Show Number       19999 non-null int64\n",
      "Air Date          19999 non-null datetime64[ns]\n",
      "Round             19999 non-null object\n",
      "Category          19999 non-null object\n",
      "Value             19999 non-null object\n",
      "Question          19999 non-null object\n",
      "Answer            19999 non-null object\n",
      "clean_question    19999 non-null object\n",
      "clean_answer      19999 non-null object\n",
      "clean_value       19999 non-null int64\n",
      "dtypes: datetime64[ns](1), int64(2), object(7)\n",
      "memory usage: 1.5+ MB\n"
     ]
    }
   ],
   "source": [
    "file['Air Date'] = pd.to_datetime(file['Air Date'])\n",
    "file.info()"
   ]
  },
  {
   "cell_type": "markdown",
   "metadata": {},
   "source": [
    "We can see that the clean_value column is a integer now, and the air date has been changed to datetime. "
   ]
  },
  {
   "cell_type": "markdown",
   "metadata": {},
   "source": [
    "### Does the answer come through the question?"
   ]
  },
  {
   "cell_type": "markdown",
   "metadata": {},
   "source": [
    "In order to figure out whether to study past questions, study general knowledge, or not study it all, it would be helpful to figure out two things:\n",
    "- How often the answer can be used for a question.\n",
    "- How often questions are repeated.\n",
    "\n",
    "We can answer the second question by seeing how often complex words (> 6 characters) reoccur. We can answer the first question by seeing how many times words in the answer also occur in the question. We'll work on the first question and come back to the second."
   ]
  },
  {
   "cell_type": "code",
   "execution_count": 62,
   "metadata": {
    "collapsed": false
   },
   "outputs": [],
   "source": [
    "def matching(row):\n",
    "    split_answer = row['clean_answer'].split()\n",
    "    split_question = row['clean_question'].split() #Separate by spaces\n",
    "    if 'the' in split_answer:\n",
    "        split_answer.remove('the') #The is a too common word\n",
    "    if len(split_answer) == 0:\n",
    "        return 0\n",
    "    match_count = 0\n",
    "    for item in split_answer: #If word is in both answer and question\n",
    "        if item in split_question:\n",
    "            match_count += 1\n",
    "    return match_count / len(split_answer)"
   ]
  },
  {
   "cell_type": "code",
   "execution_count": 63,
   "metadata": {
    "collapsed": false
   },
   "outputs": [
    {
     "name": "stdout",
     "output_type": "stream",
     "text": [
      "The mean count of the column answer_in_question is: 0.058861482035140716\n"
     ]
    }
   ],
   "source": [
    "file['answer_in_question'] = file.apply(matching, axis = 1) \n",
    "#Axis = 1 to make sure we apply it to rows\n",
    "mean_count = file['answer_in_question'].mean()\n",
    "#Average across whole column\n",
    "print('The mean count of the column answer_in_question is:',\n",
    "     mean_count)"
   ]
  },
  {
   "cell_type": "markdown",
   "metadata": {},
   "source": [
    "On average, the answer only makes up about 6% of the question at hand. Meaning just hearing the question, we likely won't be able to come up with the answer. We'll need to look further. "
   ]
  },
  {
   "cell_type": "markdown",
   "metadata": {},
   "source": [
    "### Repeated questions\n",
    "Let's say you want to investigate how often new questions are repeats of older ones. You can't completely answer this, because you only have about 10% of the full Jeopardy question dataset, but you can investigate it at least.\n",
    "\n",
    "To do this, we can:\n",
    "- Sort by ascending air date\n",
    "- Maintain a set called terms_used that will be empty initially\n",
    "- Iterate through each row\n",
    "- Split clean_question, remove shorter words and check if words are reused in terms_used\n",
    "    - If so, increment a counter,\n",
    "    - Add each word to terms_used\n",
    "    \n",
    "This allows you to check if the terms in questions have been used previously or not. Only looking at words with six or more characters enables you to filter out words like the and than, which are commonly used, but don't tell you a lot about a question."
   ]
  },
  {
   "cell_type": "code",
   "execution_count": 64,
   "metadata": {
    "collapsed": false
   },
   "outputs": [
    {
     "name": "stdout",
     "output_type": "stream",
     "text": [
      "0.6889055316620328\n"
     ]
    }
   ],
   "source": [
    "question_overlap = []\n",
    "terms_used = set()\n",
    "\n",
    "file = file.sort_values('Air Date')\n",
    "\n",
    "for i, row in file.iterrows():\n",
    "    split_question = row['clean_question'].split()\n",
    "    split_question = [value for value in split_question if len(value) > 5]\n",
    "    match_count = 0\n",
    "    for word in split_question:\n",
    "        if word in terms_used:\n",
    "            match_count += 1\n",
    "        terms_used.add(word)\n",
    "    if len(split_question) > 0:\n",
    "        match_count = match_count / len(split_question)\n",
    "    question_overlap.append(match_count)\n",
    "\n",
    "file['question_overlap'] = question_overlap\n",
    "\n",
    "print(file['question_overlap'].mean())"
   ]
  },
  {
   "cell_type": "markdown",
   "metadata": {},
   "source": [
    "There's about a 68% overlap between older and new questions in terms of word choice, which could be inconsequential, but leads me to believe there is more to look at in comparing questions. "
   ]
  },
  {
   "cell_type": "markdown",
   "metadata": {},
   "source": [
    "### The big money questions\n",
    "Let's say you only want to study questions that pertain to high value questions instead of low value questions. This will help you earn more money when you're on Jeopardy.\n",
    "\n",
    "You can actually figure out which terms correspond to high-value questions using a chi-squared test. You'll first need to narrow down the questions into two categories:\n",
    "- Low value - Any row where Value is less than 800\n",
    "- High value - Any row where Value is greater than 800\n",
    "\n",
    "You'll then be able to loop through each of the terms through terms_used, and:\n",
    "- Find the number of low value questions the word occurs in.\n",
    "- Find the number of high value questions the word occurs in.\n",
    "- Find the percentage of questions the word occurs in.\n",
    "- Based on the percentage of questions the word occurs in, find expected counts. \n",
    "- Compute the chi squared value based on expected counts and observed counts for high and low value questions. \n",
    "\n",
    "You can then find the words with the biggest differences in usage between high and low value questions, by selecting the words with the highest associated chi-squared values. Doing this for all of the words would take a very long time, so we'll just do it for a small sample now."
   ]
  },
  {
   "cell_type": "code",
   "execution_count": 65,
   "metadata": {
    "collapsed": true
   },
   "outputs": [],
   "source": [
    "def greater_800(row):\n",
    "    binary = 0\n",
    "    if row['clean_value'] > 800:\n",
    "        binary = 1\n",
    "    return binary    \n",
    "#Adds column identifying if the word "
   ]
  },
  {
   "cell_type": "code",
   "execution_count": 66,
   "metadata": {
    "collapsed": true
   },
   "outputs": [],
   "source": [
    "file['high_value'] = file.apply(greater_800, axis = 1)"
   ]
  },
  {
   "cell_type": "code",
   "execution_count": 67,
   "metadata": {
    "collapsed": true
   },
   "outputs": [],
   "source": [
    "def counting(word):\n",
    "    low_count = 0\n",
    "    high_count = 0\n",
    "    for i, row in file.iterrows():\n",
    "        question = row['clean_question'].split()\n",
    "        if word in question:\n",
    "            if row['high_value'] == 1:\n",
    "                high_count += 1\n",
    "            else:\n",
    "                low_count += 1\n",
    "    return high_count, low_count"
   ]
  },
  {
   "cell_type": "code",
   "execution_count": 68,
   "metadata": {
    "collapsed": false
   },
   "outputs": [],
   "source": [
    "import random\n",
    "comparison_terms = random.sample(terms_used, 10) #Retrieves 10 random words"
   ]
  },
  {
   "cell_type": "code",
   "execution_count": 69,
   "metadata": {
    "collapsed": true
   },
   "outputs": [],
   "source": [
    "observed_expected = []\n",
    "\n",
    "for word in comparison_terms:\n",
    "    observed_expected.append(counting(word)) \n",
    "#Counts how many times a word was in a high value question vs low value"
   ]
  },
  {
   "cell_type": "code",
   "execution_count": 70,
   "metadata": {
    "collapsed": false
   },
   "outputs": [
    {
     "data": {
      "text/plain": [
       "[(1, 0),\n",
       " (0, 1),\n",
       " (0, 1),\n",
       " (1, 0),\n",
       " (0, 1),\n",
       " (1, 0),\n",
       " (4, 6),\n",
       " (0, 1),\n",
       " (1, 1),\n",
       " (2, 4)]"
      ]
     },
     "execution_count": 70,
     "metadata": {},
     "output_type": "execute_result"
    }
   ],
   "source": [
    "observed_expected"
   ]
  },
  {
   "cell_type": "markdown",
   "metadata": {},
   "source": [
    "With these words none of them were present in high value questions. "
   ]
  },
  {
   "cell_type": "markdown",
   "metadata": {},
   "source": [
    "### Chi Squared Values\n",
    "Now we can compute the chi squared values with our observed counts and calculated expected counts"
   ]
  },
  {
   "cell_type": "code",
   "execution_count": 71,
   "metadata": {
    "collapsed": false
   },
   "outputs": [],
   "source": [
    "high_value_count = len(file[file['high_value'] == 1])\n",
    "low_value_count = len(file[file['high_value'] == 0])"
   ]
  },
  {
   "cell_type": "code",
   "execution_count": 72,
   "metadata": {
    "collapsed": false
   },
   "outputs": [
    {
     "data": {
      "text/plain": [
       "[Power_divergenceResult(statistic=2.487792117195675, pvalue=0.11473257634454047),\n",
       " Power_divergenceResult(statistic=0.401962846126884, pvalue=0.5260772985705469),\n",
       " Power_divergenceResult(statistic=0.401962846126884, pvalue=0.5260772985705469),\n",
       " Power_divergenceResult(statistic=2.487792117195675, pvalue=0.11473257634454047),\n",
       " Power_divergenceResult(statistic=0.401962846126884, pvalue=0.5260772985705469),\n",
       " Power_divergenceResult(statistic=2.487792117195675, pvalue=0.11473257634454047),\n",
       " Power_divergenceResult(statistic=0.6275336335698622, pvalue=0.42826143908800296),\n",
       " Power_divergenceResult(statistic=0.401962846126884, pvalue=0.5260772985705469),\n",
       " Power_divergenceResult(statistic=0.4448774816612795, pvalue=0.5047776487545996),\n",
       " Power_divergenceResult(statistic=0.06376233446880725, pvalue=0.8006453026878781)]"
      ]
     },
     "execution_count": 72,
     "metadata": {},
     "output_type": "execute_result"
    }
   ],
   "source": [
    "from scipy.stats import chisquare\n",
    "import numpy as np\n",
    "\n",
    "expected = []\n",
    "chi_squared = []\n",
    "\n",
    "for observations in observed_expected:\n",
    "    total = sum(observations)\n",
    "    total_prop = total / len(file)\n",
    "    \n",
    "    expected_high = total_prop * high_value_count\n",
    "    expected_low = total_prop * low_value_count\n",
    "    \n",
    "    observed = np.array([observations[0],observations[1]])\n",
    "    expected = np.array([expected_high, expected_low])\n",
    "    chi_squared.append(chisquare(observed, expected))\n",
    "    \n",
    "chi_squared"
   ]
  },
  {
   "cell_type": "markdown",
   "metadata": {},
   "source": [
    "The frequencies are less than 5, and the significance through p-value aren't close to the typically accepted 5%. Running this test with words that only appeared more than 5-10x would help this test. "
   ]
  }
 ],
 "metadata": {
  "kernelspec": {
   "display_name": "Python 3",
   "language": "python",
   "name": "python3"
  },
  "language_info": {
   "codemirror_mode": {
    "name": "ipython",
    "version": 3
   },
   "file_extension": ".py",
   "mimetype": "text/x-python",
   "name": "python",
   "nbconvert_exporter": "python",
   "pygments_lexer": "ipython3",
   "version": "3.4.3"
  }
 },
 "nbformat": 4,
 "nbformat_minor": 0
}
