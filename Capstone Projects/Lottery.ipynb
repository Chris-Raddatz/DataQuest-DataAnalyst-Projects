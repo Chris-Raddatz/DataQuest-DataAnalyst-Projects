{
 "cells": [
  {
   "cell_type": "markdown",
   "metadata": {},
   "source": [
    "# Advising Lottery Estimations\n",
    "The lottery usually is a fun activity to take part in and hope for a better life. Sometimes, this habit turns into an addiction, with addicts wasting away money and potentially turning to desperate behaviors, like theft, to make up more money to bet. \n",
    "\n",
    "Our goal is to help a medical institute by building a dedicated mobile app for lottery addicts to better estimate their chances of winning. The institute has a dedicated core of engineers to build the app, but we are responsible for the core probabilities that are pivotal for the app functionality. \n",
    "\n",
    "For the first version of the app, we will focus on the [6/49 lottery](https://en.wikipedia.org/wiki/Lotto_6/49) and build functions that allow users to answer questions like:\n",
    "- What is the probability of winning the big prize with a single ticket?\n",
    "- What is the probability of winning the big prize if we play 40 different tickets (or any other number)?\n",
    "- What is the probability of having at least five (or four, or three, or two) winning numbers on a single ticket?\n",
    "\n",
    "The institute also wants us to consider historical data pertinent to this lottery. Our dataset is a [Kaggle](https://www.kaggle.com/datasets/datascienceai/lottery-dataset) resource from 1982-2018. "
   ]
  },
  {
   "cell_type": "markdown",
   "metadata": {},
   "source": [
    "### Defining Functions"
   ]
  },
  {
   "cell_type": "markdown",
   "metadata": {},
   "source": [
    "Throughout this project, we'll need to calculate repeated probabilities and combinations. So let's start with coding these two essential functions:\n",
    "- A function that calculates factorials; and\n",
    "- A function that calculates combinations."
   ]
  },
  {
   "cell_type": "code",
   "execution_count": 2,
   "metadata": {
    "collapsed": false
   },
   "outputs": [],
   "source": [
    "def factorial(n): #The same as the mathematical equation 5! = 5x4x3x2x1\n",
    "    factorial = 1\n",
    "    for i in range(1, n+1):\n",
    "        factorial *= i\n",
    "    return factorial\n",
    "\n",
    "def combinations(n,k): #Combination formula: n! / k! (n-k)!\n",
    "    numerator = factorial(n)\n",
    "    denominator = factorial(k) * factorial(n-k)\n",
    "    return numerator / denominator"
   ]
  },
  {
   "cell_type": "markdown",
   "metadata": {},
   "source": [
    "### Winning the Big Prize"
   ]
  },
  {
   "cell_type": "markdown",
   "metadata": {},
   "source": [
    "In this lottery, six numbers are drawn from 49 numbers from 1-49. A player wins if their numbers match the numbers drawn. For the first version of this app, we want players to be able to calculate the probability of winning the big prize with the various numbers they play on a single ticket. \n",
    "\n",
    "After discussing with the engineering team of the institute, they told us we need to be aware of these following details:\n",
    "- Inside the app, the user inputs six different numbers from 1 to 49.\n",
    "- Under the hood, the six numbers will come as a Python list, which will serve as the single input to our function.\n",
    "- The engineering team wants the function to print the probability value in a friendly way — in a way that people without any probability training are able to understand."
   ]
  },
  {
   "cell_type": "code",
   "execution_count": 3,
   "metadata": {
    "collapsed": false
   },
   "outputs": [],
   "source": [
    "def one_ticket_probability(numbers):\n",
    "    possible_outcomes = combinations(49,6)\n",
    "    success_prob = (1/possible_outcomes)\n",
    "    print('''Your numbers, {}, have a {:.8%} chance of winning the lottery. You have a 1 in {:,} chance of winning'''.format(numbers, success_prob,\n",
    "                                                  int(possible_outcomes)))"
   ]
  },
  {
   "cell_type": "markdown",
   "metadata": {},
   "source": [
    "Can test the function with two inputs..."
   ]
  },
  {
   "cell_type": "code",
   "execution_count": 4,
   "metadata": {
    "collapsed": false
   },
   "outputs": [
    {
     "name": "stdout",
     "output_type": "stream",
     "text": [
      "Your numbers, [1, 2, 3, 4, 5, 6], have a 0.00000715% chance of winning the lottery. You have a 1 in 13,983,816 chance of winning\n"
     ]
    }
   ],
   "source": [
    "array = [1,2,3,4,5,6]\n",
    "one_ticket_probability(array)"
   ]
  },
  {
   "cell_type": "code",
   "execution_count": 5,
   "metadata": {
    "collapsed": false,
    "scrolled": true
   },
   "outputs": [
    {
     "name": "stdout",
     "output_type": "stream",
     "text": [
      "Your numbers, [40, 32, 15, 27, 2], have a 0.00000715% chance of winning the lottery. You have a 1 in 13,983,816 chance of winning\n"
     ]
    }
   ],
   "source": [
    "array = [40,32,15,27,2]\n",
    "one_ticket_probability(array)"
   ]
  },
  {
   "cell_type": "markdown",
   "metadata": {},
   "source": [
    "### Scoping out our Historical Data\n",
    "For the first version of the app, users should be able to compare their ticket against the historical lottery data in Canada and determine whether they would have ever won by now. \n",
    "\n",
    "We'll be using the following [dataset](https://www.kaggle.com/datasets/datascienceai/lottery-dataset) which contains 3,665 rows dating from 1982 to 2018. \n",
    "\n",
    "For each row (or drawing), we will find columns for each number drawn labeled:\n",
    "- Number Drawn 1\n",
    "- Number Drawn 2\n",
    "- Number Drawn 3\n",
    "- Number Drawn 4\n",
    "- Number Drawn 5\n",
    "- Number Drawn 6"
   ]
  },
  {
   "cell_type": "code",
   "execution_count": 6,
   "metadata": {
    "collapsed": false
   },
   "outputs": [
    {
     "name": "stdout",
     "output_type": "stream",
     "text": [
      "(3665, 11) \n",
      "Top 3 rows of dataset:\n"
     ]
    },
    {
     "data": {
      "text/html": [
       "<div>\n",
       "<style scoped>\n",
       "    .dataframe tbody tr th:only-of-type {\n",
       "        vertical-align: middle;\n",
       "    }\n",
       "\n",
       "    .dataframe tbody tr th {\n",
       "        vertical-align: top;\n",
       "    }\n",
       "\n",
       "    .dataframe thead th {\n",
       "        text-align: right;\n",
       "    }\n",
       "</style>\n",
       "<table border=\"1\" class=\"dataframe\">\n",
       "  <thead>\n",
       "    <tr style=\"text-align: right;\">\n",
       "      <th></th>\n",
       "      <th>PRODUCT</th>\n",
       "      <th>DRAW NUMBER</th>\n",
       "      <th>SEQUENCE NUMBER</th>\n",
       "      <th>DRAW DATE</th>\n",
       "      <th>NUMBER DRAWN 1</th>\n",
       "      <th>NUMBER DRAWN 2</th>\n",
       "      <th>NUMBER DRAWN 3</th>\n",
       "      <th>NUMBER DRAWN 4</th>\n",
       "      <th>NUMBER DRAWN 5</th>\n",
       "      <th>NUMBER DRAWN 6</th>\n",
       "      <th>BONUS NUMBER</th>\n",
       "    </tr>\n",
       "  </thead>\n",
       "  <tbody>\n",
       "    <tr>\n",
       "      <th>0</th>\n",
       "      <td>649</td>\n",
       "      <td>1</td>\n",
       "      <td>0</td>\n",
       "      <td>6/12/1982</td>\n",
       "      <td>3</td>\n",
       "      <td>11</td>\n",
       "      <td>12</td>\n",
       "      <td>14</td>\n",
       "      <td>41</td>\n",
       "      <td>43</td>\n",
       "      <td>13</td>\n",
       "    </tr>\n",
       "    <tr>\n",
       "      <th>1</th>\n",
       "      <td>649</td>\n",
       "      <td>2</td>\n",
       "      <td>0</td>\n",
       "      <td>6/19/1982</td>\n",
       "      <td>8</td>\n",
       "      <td>33</td>\n",
       "      <td>36</td>\n",
       "      <td>37</td>\n",
       "      <td>39</td>\n",
       "      <td>41</td>\n",
       "      <td>9</td>\n",
       "    </tr>\n",
       "    <tr>\n",
       "      <th>2</th>\n",
       "      <td>649</td>\n",
       "      <td>3</td>\n",
       "      <td>0</td>\n",
       "      <td>6/26/1982</td>\n",
       "      <td>1</td>\n",
       "      <td>6</td>\n",
       "      <td>23</td>\n",
       "      <td>24</td>\n",
       "      <td>27</td>\n",
       "      <td>39</td>\n",
       "      <td>34</td>\n",
       "    </tr>\n",
       "  </tbody>\n",
       "</table>\n",
       "</div>"
      ],
      "text/plain": [
       "   PRODUCT  DRAW NUMBER  SEQUENCE NUMBER  DRAW DATE  NUMBER DRAWN 1  \\\n",
       "0      649            1                0  6/12/1982               3   \n",
       "1      649            2                0  6/19/1982               8   \n",
       "2      649            3                0  6/26/1982               1   \n",
       "\n",
       "   NUMBER DRAWN 2  NUMBER DRAWN 3  NUMBER DRAWN 4  NUMBER DRAWN 5  \\\n",
       "0              11              12              14              41   \n",
       "1              33              36              37              39   \n",
       "2               6              23              24              27   \n",
       "\n",
       "   NUMBER DRAWN 6  BONUS NUMBER  \n",
       "0              43            13  \n",
       "1              41             9  \n",
       "2              39            34  "
      ]
     },
     "execution_count": 6,
     "metadata": {},
     "output_type": "execute_result"
    }
   ],
   "source": [
    "import pandas as pd\n",
    "history = pd.read_csv('649.csv')\n",
    "print(history.shape,'\\nTop 3 rows of dataset:')\n",
    "pd.DataFrame(history.head(3))"
   ]
  },
  {
   "cell_type": "code",
   "execution_count": 7,
   "metadata": {
    "collapsed": false
   },
   "outputs": [
    {
     "name": "stdout",
     "output_type": "stream",
     "text": [
      "**Bottom 3 rows of dataset:**\n"
     ]
    },
    {
     "data": {
      "text/html": [
       "<div>\n",
       "<style scoped>\n",
       "    .dataframe tbody tr th:only-of-type {\n",
       "        vertical-align: middle;\n",
       "    }\n",
       "\n",
       "    .dataframe tbody tr th {\n",
       "        vertical-align: top;\n",
       "    }\n",
       "\n",
       "    .dataframe thead th {\n",
       "        text-align: right;\n",
       "    }\n",
       "</style>\n",
       "<table border=\"1\" class=\"dataframe\">\n",
       "  <thead>\n",
       "    <tr style=\"text-align: right;\">\n",
       "      <th></th>\n",
       "      <th>PRODUCT</th>\n",
       "      <th>DRAW NUMBER</th>\n",
       "      <th>SEQUENCE NUMBER</th>\n",
       "      <th>DRAW DATE</th>\n",
       "      <th>NUMBER DRAWN 1</th>\n",
       "      <th>NUMBER DRAWN 2</th>\n",
       "      <th>NUMBER DRAWN 3</th>\n",
       "      <th>NUMBER DRAWN 4</th>\n",
       "      <th>NUMBER DRAWN 5</th>\n",
       "      <th>NUMBER DRAWN 6</th>\n",
       "      <th>BONUS NUMBER</th>\n",
       "    </tr>\n",
       "  </thead>\n",
       "  <tbody>\n",
       "    <tr>\n",
       "      <th>3662</th>\n",
       "      <td>649</td>\n",
       "      <td>3589</td>\n",
       "      <td>0</td>\n",
       "      <td>6/13/2018</td>\n",
       "      <td>6</td>\n",
       "      <td>22</td>\n",
       "      <td>24</td>\n",
       "      <td>31</td>\n",
       "      <td>32</td>\n",
       "      <td>34</td>\n",
       "      <td>16</td>\n",
       "    </tr>\n",
       "    <tr>\n",
       "      <th>3663</th>\n",
       "      <td>649</td>\n",
       "      <td>3590</td>\n",
       "      <td>0</td>\n",
       "      <td>6/16/2018</td>\n",
       "      <td>2</td>\n",
       "      <td>15</td>\n",
       "      <td>21</td>\n",
       "      <td>31</td>\n",
       "      <td>38</td>\n",
       "      <td>49</td>\n",
       "      <td>8</td>\n",
       "    </tr>\n",
       "    <tr>\n",
       "      <th>3664</th>\n",
       "      <td>649</td>\n",
       "      <td>3591</td>\n",
       "      <td>0</td>\n",
       "      <td>6/20/2018</td>\n",
       "      <td>14</td>\n",
       "      <td>24</td>\n",
       "      <td>31</td>\n",
       "      <td>35</td>\n",
       "      <td>37</td>\n",
       "      <td>48</td>\n",
       "      <td>17</td>\n",
       "    </tr>\n",
       "  </tbody>\n",
       "</table>\n",
       "</div>"
      ],
      "text/plain": [
       "      PRODUCT  DRAW NUMBER  SEQUENCE NUMBER  DRAW DATE  NUMBER DRAWN 1  \\\n",
       "3662      649         3589                0  6/13/2018               6   \n",
       "3663      649         3590                0  6/16/2018               2   \n",
       "3664      649         3591                0  6/20/2018              14   \n",
       "\n",
       "      NUMBER DRAWN 2  NUMBER DRAWN 3  NUMBER DRAWN 4  NUMBER DRAWN 5  \\\n",
       "3662              22              24              31              32   \n",
       "3663              15              21              31              38   \n",
       "3664              24              31              35              37   \n",
       "\n",
       "      NUMBER DRAWN 6  BONUS NUMBER  \n",
       "3662              34            16  \n",
       "3663              49             8  \n",
       "3664              48            17  "
      ]
     },
     "execution_count": 7,
     "metadata": {},
     "output_type": "execute_result"
    }
   ],
   "source": [
    "print('**Bottom 3 rows of dataset:**')\n",
    "pd.DataFrame(history.tail(3))"
   ]
  },
  {
   "cell_type": "markdown",
   "metadata": {},
   "source": [
    "There are 3665 rows with 11 columns ordered by draw date. It consists of the number drawn columns, a bonus number column, and a few identifying columns."
   ]
  },
  {
   "cell_type": "markdown",
   "metadata": {},
   "source": [
    "### Comparing function\n",
    "We will now write a function enabling users to compare their ticket against the historical lottery data in Canada and determine whether they would have ever won by now. \n",
    "\n",
    "We've been told to be aware of these following details:\n",
    "- Inside the app, the user inputs six different numbers from 1 to 49.\n",
    "- Under the hood, the six numbers will come as a Python list and serve as an input to our function.\n",
    "- The engineering team wants us to write a function that prints:\n",
    "    - the number of times the combination selected occurred in the Canada data set; and\n",
    "    - the probability of winning the big prize in the next drawing with that combination."
   ]
  },
  {
   "cell_type": "code",
   "execution_count": 8,
   "metadata": {
    "collapsed": true
   },
   "outputs": [],
   "source": [
    "def extract_numbers(row):\n",
    "    row = row[4:10] #Takes in the 6 numbers chosen\n",
    "    row = set(row)  #Formats it into a set  \n",
    "    return row"
   ]
  },
  {
   "cell_type": "code",
   "execution_count": 9,
   "metadata": {
    "collapsed": false
   },
   "outputs": [
    {
     "data": {
      "text/plain": [
       "0    {3, 41, 11, 12, 43, 14}\n",
       "1    {33, 36, 37, 39, 8, 41}\n",
       "2     {1, 6, 39, 23, 24, 27}\n",
       "3     {3, 9, 10, 43, 13, 20}\n",
       "4    {34, 5, 14, 47, 21, 31}\n",
       "dtype: object"
      ]
     },
     "execution_count": 9,
     "metadata": {},
     "output_type": "execute_result"
    }
   ],
   "source": [
    "Winning_Numbers = history.apply(extract_numbers, axis = 1)\n",
    "Winning_Numbers.head()"
   ]
  },
  {
   "cell_type": "code",
   "execution_count": 10,
   "metadata": {
    "collapsed": false
   },
   "outputs": [],
   "source": [
    "def check_historical_occurence(user_numbers, winning_numbers):\n",
    "    user_numbers = set(user_numbers)\n",
    "    bool_check = user_numbers == winning_numbers\n",
    "    num_of_times = bool_check.sum()\n",
    "    \n",
    "    if num_of_times == 0:\n",
    "        print('''Your numbers, {}, have never appeared in the history of this lottery event. \n",
    "Attempting to win the lottery comes with a 1 in 13,983,816, or 0.00000715%, chance of winning.'''.format(user_numbers))\n",
    "    else:\n",
    "        print('''The numbers {} have appeared {} times since the inception of this lottery.\n",
    "Your chances to win with these numbers is 1 in 13,983,816, or 0.00000715%.'''.format(user_numbers,\n",
    "                                                                                            num_of_times))"
   ]
  },
  {
   "cell_type": "code",
   "execution_count": 11,
   "metadata": {
    "collapsed": false
   },
   "outputs": [
    {
     "name": "stdout",
     "output_type": "stream",
     "text": [
      "The numbers {3, 41, 11, 12, 43, 14} have appeared 1 times since the inception of this lottery.\n",
      "Your chances to win with these numbers is 1 in 13,983,816, or 0.00000715%.\n"
     ]
    }
   ],
   "source": [
    "check_historical_occurence([3, 41, 11, 12, 43, 14], Winning_Numbers)"
   ]
  },
  {
   "cell_type": "code",
   "execution_count": 12,
   "metadata": {
    "collapsed": false,
    "scrolled": true
   },
   "outputs": [
    {
     "name": "stdout",
     "output_type": "stream",
     "text": [
      "Your numbers, {1, 2, 3, 4, 5, 6}, have never appeared in the history of this lottery event. \n",
      "Attempting to win the lottery comes with a 1 in 13,983,816, or 0.00000715%, chance of winning.\n"
     ]
    }
   ],
   "source": [
    "check_historical_occurence([1,2,3,4,5,6], Winning_Numbers)"
   ]
  },
  {
   "cell_type": "markdown",
   "metadata": {},
   "source": [
    "With this function we can test a user's input against the historical winning draws. This will notify them if there's a match or not, but regardless we will tell them about the large, almost guaranteed, chances that their efforts will be futile in terms of winning. "
   ]
  },
  {
   "cell_type": "markdown",
   "metadata": {},
   "source": [
    "### Multiple Ticket Probabilities\n",
    "Lottery addicts usually play more than one ticket on a single drawing, so with our purpose of helping them better estimate their chances of winning we can now write a function to allow users to calculate their chances of winning for any number of different tickets.\n",
    "\n",
    "We've been given the following information:\n",
    "- The user will input the number of different tickets they want to play (without inputting the specific combinations they intend to play).\n",
    "- Our function will see an integer between 1 and 13,983,816 (the maximum number of different tickets).\n",
    "- The function should print information about the probability of winning the big prize depending on the number of different tickets played."
   ]
  },
  {
   "cell_type": "code",
   "execution_count": 42,
   "metadata": {
    "collapsed": false
   },
   "outputs": [],
   "source": [
    "def multi_ticket_probability(tickets):\n",
    "    possible_outcomes = combinations(49,6) # All possible outcomes\n",
    "    probability = tickets / possible_outcomes #Probability\n",
    "    print('''The number of tickets you have: {}, will give you a {:.8%} chance of winning'''.format(tickets, probability))"
   ]
  },
  {
   "cell_type": "code",
   "execution_count": 54,
   "metadata": {
    "collapsed": false
   },
   "outputs": [
    {
     "name": "stdout",
     "output_type": "stream",
     "text": [
      "The number of tickets you have: 1, will give you a 0.00000715% chance of winning\n",
      "----------------\n",
      "The number of tickets you have: 10, will give you a 0.00007151% chance of winning\n",
      "----------------\n",
      "The number of tickets you have: 100, will give you a 0.00071511% chance of winning\n",
      "----------------\n",
      "The number of tickets you have: 10000, will give you a 0.07151124% chance of winning\n",
      "----------------\n",
      "The number of tickets you have: 1000000, will give you a 7.15112384% chance of winning\n",
      "----------------\n",
      "The number of tickets you have: 6991908, will give you a 50.00000000% chance of winning\n",
      "----------------\n",
      "The number of tickets you have: 13983816, will give you a 100.00000000% chance of winning\n"
     ]
    }
   ],
   "source": [
    "test_input = [1,10,100,10000,1000000,6991908,13983816]\n",
    "\n",
    "for i in test_input:\n",
    "    multi_ticket_probability(i)\n",
    "    if i != 13983816:\n",
    "        print('-' * 16)"
   ]
  },
  {
   "cell_type": "markdown",
   "metadata": {},
   "source": [
    "This function will allow users to face the possibilities of winning/losing depending on how many tickets they've bought for this lottery. Therefore, they can see how poor their chances of winning are and it may dissuade them from playing. "
   ]
  },
  {
   "cell_type": "markdown",
   "metadata": {},
   "source": [
    "### Smaller Prizes\n",
    "In most 6/49 lotteries, there are smaller prizes if a player's ticket match two, three, four, or five of the six numbers drawn. Users may be interested in knowing the probability of having these numbers drawn in their favor. \n",
    "\n",
    "Details for this function detailed below:\n",
    "- Inside the app, the user inputs:\n",
    "    - six different numbers from 1 to 49; and\n",
    "    - an integer between 2 and 5 that represents the number of winning numbers expected\n",
    "- Our function prints information about the probability of having the inputted number of winning numbers."
   ]
  },
  {
   "cell_type": "markdown",
   "metadata": {},
   "source": [
    "First we need to differentiate between two probability questions:\n",
    "- What is the probability of having exactly five winning numbers?\n",
    "- What is the probability of having at least five winning numbers?\n",
    "\n",
    "Let's say a player chose these six numbers on a ticket: (1, 2, 3, 4 ,5 ,6). Out of these six numbers, we can form six five-number combinations:\n",
    "- (1,2,3,4,5)\n",
    "- (1,2,3,4,6)\n",
    "- (1,2,3,5,6)\n",
    "- (1,2,4,5,6)\n",
    "- (1,3,4,5,6)\n",
    "- (2,3,4,5,6)\n",
    "\n",
    "For each one of the six five-number combinations above, there are 44 possible successful outcomes in a lottery drawing. For the combination (1, 2, 3, 4, 5), for instance, there are 44 lottery outcomes that would return a smaller prize:\n",
    "- (1,2,3,4,5,6)\n",
    "- (1,2,3,4,5,7)\n",
    "- (1,2,3,4,5,8-49)\n",
    "\n",
    "However, we need to remember that we couldn't have (1,2,3,4,5,6) as that would be a lottery win, not the smaller prize. **Matching exactly 5 numbers, not at least 5 numbers.**This means that for each of our six 5-number combinations we have 43 possible successful outcomes, not 44. "
   ]
  },
  {
   "cell_type": "markdown",
   "metadata": {},
   "source": [
    "Since there are six five-number combinations and each combination corresponds to 43 successful outcomes, we need to multiply 6 by 43 to find the total number of successful outcomes (6x4 = 258) \n",
    "\n",
    "Since there are 258 successful outcomes and there are 13,983,816 total possible outcomes, the probability of having exactly five winning numbers for a single lottery ticket is: (258 / 13,983,816) = 0.00001845.\n",
    "\n",
    "We will say that we only need an integer between 2 and 5 representing the number of winning numbers expected, now let's write the function. "
   ]
  },
  {
   "cell_type": "code",
   "execution_count": 47,
   "metadata": {
    "collapsed": true
   },
   "outputs": [],
   "source": [
    "def probability_less_6(integer):\n",
    "    combos_ticket = combinations(6,integer)\n",
    "    combos_remaining = combinations(43, 6 - integer)\n",
    "    successful_outcomes = combos_ticket * combos_remaining\n",
    "    \n",
    "    probability = successful_outcomes / combinations(49,6)\n",
    "    print('''If you are trying to win the smaller prize of matching {} numbers,\n",
    "the chances of you winning are {:.8%}'''.format(integer,probability))"
   ]
  },
  {
   "cell_type": "code",
   "execution_count": 53,
   "metadata": {
    "collapsed": false,
    "scrolled": true
   },
   "outputs": [
    {
     "name": "stdout",
     "output_type": "stream",
     "text": [
      "If you are trying to win the smaller prize of matching 2 numbers,\n",
      "the chances of you winning are 13.23780290%\n",
      "----------------\n",
      "If you are trying to win the smaller prize of matching 3 numbers,\n",
      "the chances of you winning are 1.76504039%\n",
      "----------------\n",
      "If you are trying to win the smaller prize of matching 4 numbers,\n",
      "the chances of you winning are 0.09686197%\n",
      "----------------\n",
      "If you are trying to win the smaller prize of matching 5 numbers,\n",
      "the chances of you winning are 0.00184499%\n"
     ]
    }
   ],
   "source": [
    "test_input = [2,3,4,5]\n",
    "\n",
    "for i in test_input:\n",
    "    probability_less_6(i)\n",
    "    if i != 5:\n",
    "        print('-'*16)"
   ]
  },
  {
   "cell_type": "markdown",
   "metadata": {},
   "source": [
    "# Conclusion\n",
    "In this project we aimed to develop an app to aid lottery addicts in recognizing their practically futile chances of winning these events. In building this app, we constructed four apps to do so:\n",
    "- one_ticket_probability() — calculates the probability of winning the big prize with a single ticket\n",
    "- check_historical_occurrence() — checks whether a certain combination has occurred in the Canada lottery data set\n",
    "- multi_ticket_probability() — calculates the probability for any number of of tickets between 1 and 13,983,816\n",
    "- probability_less_6() — calculates the probability of having two, three, four or five winning numbers"
   ]
  }
 ],
 "metadata": {
  "kernelspec": {
   "display_name": "Python 3",
   "language": "python",
   "name": "python3"
  },
  "language_info": {
   "codemirror_mode": {
    "name": "ipython",
    "version": 3
   },
   "file_extension": ".py",
   "mimetype": "text/x-python",
   "name": "python",
   "nbconvert_exporter": "python",
   "pygments_lexer": "ipython3",
   "version": "3.4.3"
  }
 },
 "nbformat": 4,
 "nbformat_minor": 2
}
