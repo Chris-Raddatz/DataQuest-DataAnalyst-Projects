{
 "cells": [
  {
   "cell_type": "markdown",
   "metadata": {},
   "source": [
    "# Is Fandango Worth Trusting?"
   ]
  },
  {
   "cell_type": "markdown",
   "metadata": {},
   "source": [
    "Movies are an enjoyment of all communities across the world, yet when it comes down to picking which one to see this weekend, our views may be slightly skewed by improper rating systems. \n",
    "\n",
    "In 2015, investigative journalism by Walt Hickey at common data journalistic site, 538. In this [article](https://fivethirtyeight.com/features/fandango-movies-ratings/), he detailed a starring system of Fandango's that reported movies to be rounded up to the next highest rating, to elicit a bigger draw for movies they sold tickets for. \n",
    "\n",
    "In this project, I will be analyzing whether or not this article had an effect on Fandango's system. In 2015, Hickey found there were to be no movies with lower than a 2-star rating on Fandango, maybe it's changed? **Let's find out.**"
   ]
  },
  {
   "cell_type": "code",
   "execution_count": 1,
   "metadata": {
    "collapsed": false
   },
   "outputs": [],
   "source": [
    "# Loading relevant packages to analyze/visualize data\n",
    "import pandas as pd\n",
    "import seaborn as sns\n",
    "import matplotlib.pyplot as plt\n",
    "%matplotlib inline"
   ]
  },
  {
   "cell_type": "markdown",
   "metadata": {},
   "source": [
    "## Hickey's Data\n",
    "Hickey made his data publicly available on Github, so we can compare our results to his."
   ]
  },
  {
   "cell_type": "code",
   "execution_count": 2,
   "metadata": {
    "collapsed": false
   },
   "outputs": [
    {
     "name": "stdout",
     "output_type": "stream",
     "text": [
      "                             FILM  RottenTomatoes  RottenTomatoes_User  \\\n",
      "0  Avengers: Age of Ultron (2015)              74                   86   \n",
      "1               Cinderella (2015)              85                   80   \n",
      "2                  Ant-Man (2015)              80                   90   \n",
      "3          Do You Believe? (2015)              18                   84   \n",
      "4   Hot Tub Time Machine 2 (2015)              14                   28   \n",
      "\n",
      "   Metacritic  Metacritic_User  IMDB  Fandango_Stars  Fandango_Ratingvalue  \\\n",
      "0          66              7.1   7.8             5.0                   4.5   \n",
      "1          67              7.5   7.1             5.0                   4.5   \n",
      "2          64              8.1   7.8             5.0                   4.5   \n",
      "3          22              4.7   5.4             5.0                   4.5   \n",
      "4          29              3.4   5.1             3.5                   3.0   \n",
      "\n",
      "   RT_norm  RT_user_norm         ...           IMDB_norm  RT_norm_round  \\\n",
      "0     3.70           4.3         ...                3.90            3.5   \n",
      "1     4.25           4.0         ...                3.55            4.5   \n",
      "2     4.00           4.5         ...                3.90            4.0   \n",
      "3     0.90           4.2         ...                2.70            1.0   \n",
      "4     0.70           1.4         ...                2.55            0.5   \n",
      "\n",
      "   RT_user_norm_round  Metacritic_norm_round  Metacritic_user_norm_round  \\\n",
      "0                 4.5                    3.5                         3.5   \n",
      "1                 4.0                    3.5                         4.0   \n",
      "2                 4.5                    3.0                         4.0   \n",
      "3                 4.0                    1.0                         2.5   \n",
      "4                 1.5                    1.5                         1.5   \n",
      "\n",
      "   IMDB_norm_round  Metacritic_user_vote_count  IMDB_user_vote_count  \\\n",
      "0              4.0                        1330                271107   \n",
      "1              3.5                         249                 65709   \n",
      "2              4.0                         627                103660   \n",
      "3              2.5                          31                  3136   \n",
      "4              2.5                          88                 19560   \n",
      "\n",
      "   Fandango_votes  Fandango_Difference  \n",
      "0           14846                  0.5  \n",
      "1           12640                  0.5  \n",
      "2           12055                  0.5  \n",
      "3            1793                  0.5  \n",
      "4            1021                  0.5  \n",
      "\n",
      "[5 rows x 22 columns]\n",
      "(146, 22)\n"
     ]
    }
   ],
   "source": [
    "hickey_data = pd.read_csv('fandango_score_comparison.csv')\n",
    "print(hickey_data.head())\n",
    "print(hickey_data.shape)"
   ]
  },
  {
   "cell_type": "markdown",
   "metadata": {},
   "source": [
    "Looks like his data had 146 rows, each representing a movie, and 22 characterizing columns"
   ]
  },
  {
   "cell_type": "markdown",
   "metadata": {},
   "source": [
    "## Post-Article Data\n",
    "Now we will load the data from 2016-2017, a year after Hickey's article hit the internet."
   ]
  },
  {
   "cell_type": "code",
   "execution_count": 3,
   "metadata": {
    "collapsed": false
   },
   "outputs": [
    {
     "name": "stdout",
     "output_type": "stream",
     "text": [
      "                     movie  year  metascore  imdb  tmeter  audience  fandango  \\\n",
      "0      10 Cloverfield Lane  2016         76   7.2      90        79       3.5   \n",
      "1                 13 Hours  2016         48   7.3      50        83       4.5   \n",
      "2      A Cure for Wellness  2016         47   6.6      40        47       3.0   \n",
      "3          A Dog's Purpose  2017         43   5.2      33        76       4.5   \n",
      "4  A Hologram for the King  2016         58   6.1      70        57       3.0   \n",
      "\n",
      "   n_metascore  n_imdb  n_tmeter  n_audience  nr_metascore  nr_imdb  \\\n",
      "0         3.80    3.60      4.50        3.95           4.0      3.5   \n",
      "1         2.40    3.65      2.50        4.15           2.5      3.5   \n",
      "2         2.35    3.30      2.00        2.35           2.5      3.5   \n",
      "3         2.15    2.60      1.65        3.80           2.0      2.5   \n",
      "4         2.90    3.05      3.50        2.85           3.0      3.0   \n",
      "\n",
      "   nr_tmeter  nr_audience  \n",
      "0        4.5          4.0  \n",
      "1        2.5          4.0  \n",
      "2        2.0          2.5  \n",
      "3        1.5          4.0  \n",
      "4        3.5          3.0  \n",
      "(214, 15)\n"
     ]
    }
   ],
   "source": [
    "post_article = pd.read_csv('movie_ratings_16_17.csv')\n",
    "print(post_article.head())\n",
    "print(post_article.shape)"
   ]
  },
  {
   "cell_type": "markdown",
   "metadata": {},
   "source": [
    "Post-article dataset has fewer columns, but a little more than 50 rows of Movies to look at. "
   ]
  },
  {
   "cell_type": "markdown",
   "metadata": {},
   "source": [
    "## Isolating variables"
   ]
  },
  {
   "cell_type": "markdown",
   "metadata": {},
   "source": [
    "Looking at Hickey's data, we want to look at specifically these columns:\n",
    "- FILM: Movie Title\n",
    "- Fandango_Stars: Number of Stars on Fandango\n",
    "- Fandango_Ratingvalue: Rating Value, the 'actual' one.\n",
    "- Fandango_votes: Number of votes for this film\n",
    "- Fandango_Difference: Difference between presented stars and actual\n",
    "\n",
    "With our newer dataset, right now let's look at these three columns:\n",
    "- movie: Title of movie\n",
    "- year: Year of release\n",
    "- fandango: Fandango rating on website"
   ]
  },
  {
   "cell_type": "code",
   "execution_count": 4,
   "metadata": {
    "collapsed": false
   },
   "outputs": [],
   "source": [
    "hickey_data = hickey_data[['FILM','Fandango_Stars','Fandango_Ratingvalue',\n",
    "                                  'Fandango_votes','Fandango_Difference']].copy()\n",
    "post_article = post_article[['movie','year','fandango']].copy()\n",
    "# Use .copy to avoid copy warning later on"
   ]
  },
  {
   "cell_type": "markdown",
   "metadata": {},
   "source": [
    "The goal is to identify any change in the rating system of Fandango before and after the article was published. These two datasets should accomplish this.\n",
    "\n",
    "To follow his evidence, we need to sample how he sampled and make sure our population is appropriately represented within the data we analyze."
   ]
  },
  {
   "cell_type": "markdown",
   "metadata": {},
   "source": [
    "From Hickey's [article](https://fivethirtyeight.com/features/fandango-movies-ratings/) and his [README](https://github.com/fivethirtyeight/data/blob/master/fandango/README.md) of his analysis, we can tell two things:\n",
    "- The movie had to have at least 30 fan ratings on Fandango's website at the time of sampling (2015).\n",
    "- The movie must have had tickets on sale in 2015."
   ]
  },
  {
   "cell_type": "markdown",
   "metadata": {},
   "source": [
    "This means at least that the sampling was not random, he had qualities to search for and then restricted his sample from matching closely to the population of the dataset. "
   ]
  },
  {
   "cell_type": "markdown",
   "metadata": {},
   "source": [
    "Now looking at the dataset for after the article was published, in this [README](https://app.dataquest.io/c/53/m/288/guided-project%3A-investigating-fandango-movie-ratings/2/understanding-the-data), there are some qualities about the data collection:\n",
    "- The movie must have been released in 2016 or later.\n",
    "- The movie had to have a certain amount of votes/reviews to be collected."
   ]
  },
  {
   "cell_type": "markdown",
   "metadata": {},
   "source": [
    "This again shows selective sampling, which will not match the population efficiently and ultimately lead to sampling error. "
   ]
  },
  {
   "cell_type": "markdown",
   "metadata": {},
   "source": [
    "## Changing Courses"
   ]
  },
  {
   "cell_type": "markdown",
   "metadata": {},
   "source": [
    "Knowing that the data isn't trustworthy to extrapolate results towards the full population we need to make it so. So, let's focus on identifying any changes within ratings for popular movies before the article, 2015, and after, 2016. "
   ]
  },
  {
   "cell_type": "markdown",
   "metadata": {},
   "source": [
    "## New Populations"
   ]
  },
  {
   "cell_type": "markdown",
   "metadata": {},
   "source": [
    "With this goal in mind, we have two populations to seek out and sample:\n",
    "- Ratings for popular movies from 2015.\n",
    "- Ratings for popular movies from 2016."
   ]
  },
  {
   "cell_type": "markdown",
   "metadata": {},
   "source": [
    "The definition of 'popular' is subjective, so let's take it into our own hands and define it as any movie that has more than 30 ratings on Fandango."
   ]
  },
  {
   "cell_type": "markdown",
   "metadata": {},
   "source": [
    "To make sure this process will ensure a sampling pool indicative of the population, let's do some random sampling and see how many reviews these movies receive, just to see if the majority, >80%, have more than 30 reviews. "
   ]
  },
  {
   "cell_type": "code",
   "execution_count": 5,
   "metadata": {
    "collapsed": false,
    "scrolled": true
   },
   "outputs": [
    {
     "data": {
      "text/plain": [
       "0"
      ]
     },
     "execution_count": 5,
     "metadata": {},
     "output_type": "execute_result"
    }
   ],
   "source": [
    "sum(hickey_data['Fandango_votes'] < 30) \n",
    "# Counts number of rows that have less than 30 votes for the respective movie."
   ]
  },
  {
   "cell_type": "markdown",
   "metadata": {},
   "source": [
    "Hickey's data seems to be alright with all samples having more than 30 votes..."
   ]
  },
  {
   "cell_type": "code",
   "execution_count": 6,
   "metadata": {
    "collapsed": false
   },
   "outputs": [
    {
     "data": {
      "text/html": [
       "<div>\n",
       "<style scoped>\n",
       "    .dataframe tbody tr th:only-of-type {\n",
       "        vertical-align: middle;\n",
       "    }\n",
       "\n",
       "    .dataframe tbody tr th {\n",
       "        vertical-align: top;\n",
       "    }\n",
       "\n",
       "    .dataframe thead th {\n",
       "        text-align: right;\n",
       "    }\n",
       "</style>\n",
       "<table border=\"1\" class=\"dataframe\">\n",
       "  <thead>\n",
       "    <tr style=\"text-align: right;\">\n",
       "      <th></th>\n",
       "      <th>movie</th>\n",
       "      <th>year</th>\n",
       "      <th>fandango</th>\n",
       "    </tr>\n",
       "  </thead>\n",
       "  <tbody>\n",
       "    <tr>\n",
       "      <th>108</th>\n",
       "      <td>Mechanic: Resurrection</td>\n",
       "      <td>2016</td>\n",
       "      <td>4.0</td>\n",
       "    </tr>\n",
       "    <tr>\n",
       "      <th>206</th>\n",
       "      <td>Warcraft</td>\n",
       "      <td>2016</td>\n",
       "      <td>4.0</td>\n",
       "    </tr>\n",
       "    <tr>\n",
       "      <th>106</th>\n",
       "      <td>Max Steel</td>\n",
       "      <td>2016</td>\n",
       "      <td>3.5</td>\n",
       "    </tr>\n",
       "    <tr>\n",
       "      <th>107</th>\n",
       "      <td>Me Before You</td>\n",
       "      <td>2016</td>\n",
       "      <td>4.5</td>\n",
       "    </tr>\n",
       "    <tr>\n",
       "      <th>51</th>\n",
       "      <td>Fantastic Beasts and Where to Find Them</td>\n",
       "      <td>2016</td>\n",
       "      <td>4.5</td>\n",
       "    </tr>\n",
       "    <tr>\n",
       "      <th>33</th>\n",
       "      <td>Cell</td>\n",
       "      <td>2016</td>\n",
       "      <td>3.0</td>\n",
       "    </tr>\n",
       "    <tr>\n",
       "      <th>59</th>\n",
       "      <td>Genius</td>\n",
       "      <td>2016</td>\n",
       "      <td>3.5</td>\n",
       "    </tr>\n",
       "    <tr>\n",
       "      <th>152</th>\n",
       "      <td>Sully</td>\n",
       "      <td>2016</td>\n",
       "      <td>4.5</td>\n",
       "    </tr>\n",
       "    <tr>\n",
       "      <th>4</th>\n",
       "      <td>A Hologram for the King</td>\n",
       "      <td>2016</td>\n",
       "      <td>3.0</td>\n",
       "    </tr>\n",
       "    <tr>\n",
       "      <th>31</th>\n",
       "      <td>Captain America: Civil War</td>\n",
       "      <td>2016</td>\n",
       "      <td>4.5</td>\n",
       "    </tr>\n",
       "  </tbody>\n",
       "</table>\n",
       "</div>"
      ],
      "text/plain": [
       "                                       movie  year  fandango\n",
       "108                   Mechanic: Resurrection  2016       4.0\n",
       "206                                 Warcraft  2016       4.0\n",
       "106                                Max Steel  2016       3.5\n",
       "107                            Me Before You  2016       4.5\n",
       "51   Fantastic Beasts and Where to Find Them  2016       4.5\n",
       "33                                      Cell  2016       3.0\n",
       "59                                    Genius  2016       3.5\n",
       "152                                    Sully  2016       4.5\n",
       "4                    A Hologram for the King  2016       3.0\n",
       "31                Captain America: Civil War  2016       4.5"
      ]
     },
     "execution_count": 6,
     "metadata": {},
     "output_type": "execute_result"
    }
   ],
   "source": [
    "sample = post_article.sample(10, random_state = 1)\n",
    "sample\n",
    "#Use random_state = 1 we will always get this table,\n",
    "#Using this implies we trust this sampling and didn't randomly sample for \n",
    "#a good looking table"
   ]
  },
  {
   "cell_type": "markdown",
   "metadata": {},
   "source": [
    "Since this dataset has no count, let's just manually look up how many votes each have on the internet. "
   ]
  },
  {
   "cell_type": "markdown",
   "metadata": {},
   "source": [
    "| Movie | Votes |\n",
    "| --- | --- |\n",
    "| Mechanic:Resurrection | 25,691 |\n",
    "| Warcraft | 31,935 |\n",
    "| Max Steel | 6,903 |\n",
    "| Me Before You | 30,884 |\n",
    "| Fantastic Beasts and Where to Find Them | 88,744 |\n",
    "| Cell | 3,902 |\n",
    "| Genius | 12 |\n",
    "| Sully | 48,780 |\n",
    "| A Hologram for the King | 10,279 |\n",
    "| Captain America: Civil War | 185,820 |"
   ]
  },
  {
   "cell_type": "markdown",
   "metadata": {},
   "source": [
    "So that's 90% with more than 30, which is kind of funny since these movies have now been out for 6 years. Genius must have been really bad..."
   ]
  },
  {
   "cell_type": "markdown",
   "metadata": {},
   "source": [
    "## Safechecking\n",
    "Let's make sure all the movies are from 2015 and 2016 in these respective datasets. "
   ]
  },
  {
   "cell_type": "code",
   "execution_count": 7,
   "metadata": {
    "collapsed": false
   },
   "outputs": [
    {
     "name": "stdout",
     "output_type": "stream",
     "text": [
      "0                      Avengers: Age of Ultron (2015)\n",
      "1                                   Cinderella (2015)\n",
      "2                                      Ant-Man (2015)\n",
      "3                              Do You Believe? (2015)\n",
      "4                       Hot Tub Time Machine 2 (2015)\n",
      "5                            The Water Diviner (2015)\n",
      "6                               Irrational Man (2015)\n",
      "7                                     Top Five (2014)\n",
      "8                        Shaun the Sheep Movie (2015)\n",
      "9                                 Love & Mercy (2015)\n",
      "10                  Far From The Madding Crowd (2015)\n",
      "11                                   Black Sea (2015)\n",
      "12                                   Leviathan (2014)\n",
      "13                                    Unbroken (2014)\n",
      "14                          The Imitation Game (2014)\n",
      "15                                     Taken 3 (2015)\n",
      "16                                       Ted 2 (2015)\n",
      "17                                    Southpaw (2015)\n",
      "18     Night at the Museum: Secret of the Tomb (2014)\n",
      "19                                      Pixels (2015)\n",
      "20                              McFarland, USA (2015)\n",
      "21                        Insidious: Chapter 3 (2015)\n",
      "22                     The Man From U.N.C.L.E. (2015)\n",
      "23                               Run All Night (2015)\n",
      "24                                  Trainwreck (2015)\n",
      "25                                       Selma (2014)\n",
      "26                                  Ex Machina (2015)\n",
      "27                                 Still Alice (2015)\n",
      "28                                  Wild Tales (2014)\n",
      "29                         The End of the Tour (2015)\n",
      "                            ...                      \n",
      "116                       Clouds of Sils Maria (2015)\n",
      "117                         Testament of Youth (2015)\n",
      "118                      Infinitely Polar Bear (2015)\n",
      "119                                    Phoenix (2015)\n",
      "120                               The Wolfpack (2015)\n",
      "121             The Stanford Prison Experiment (2015)\n",
      "122                                  Tangerine (2015)\n",
      "123                             Magic Mike XXL (2015)\n",
      "124                                       Home (2015)\n",
      "125                         The Wedding Ringer (2015)\n",
      "126                              Woman in Gold (2015)\n",
      "127                        The Last Five Years (2015)\n",
      "128       Mission: Impossible â€“ Rogue Nation (2015)\n",
      "129                                        Amy (2015)\n",
      "130                             Jurassic World (2015)\n",
      "131                                    Minions (2015)\n",
      "132                                        Max (2015)\n",
      "133                     Paul Blart: Mall Cop 2 (2015)\n",
      "134                           The Longest Ride (2015)\n",
      "135                         The Lazarus Effect (2015)\n",
      "136        The Woman In Black 2 Angel of Death (2015)\n",
      "137                              Danny Collins (2015)\n",
      "138                                Spare Parts (2015)\n",
      "139                                     Serena (2015)\n",
      "140                                 Inside Out (2015)\n",
      "141                                 Mr. Holmes (2015)\n",
      "142                                        '71 (2015)\n",
      "143                        Two Days, One Night (2014)\n",
      "144         Gett: The Trial of Viviane Amsalem (2015)\n",
      "145                Kumiko, The Treasure Hunter (2015)\n",
      "Name: FILM, Length: 146, dtype: object\n"
     ]
    }
   ],
   "source": [
    "print(hickey_data['FILM'])"
   ]
  },
  {
   "cell_type": "markdown",
   "metadata": {},
   "source": [
    "Here we see some of the movies are actually from 2014, let's use some string slicing to make a new column to clearly define what year these movies are from so we can quickly rid the dataset of them."
   ]
  },
  {
   "cell_type": "code",
   "execution_count": 8,
   "metadata": {
    "collapsed": false
   },
   "outputs": [
    {
     "data": {
      "text/plain": [
       "2015    129\n",
       "2014     17\n",
       "Name: Year, dtype: int64"
      ]
     },
     "execution_count": 8,
     "metadata": {},
     "output_type": "execute_result"
    }
   ],
   "source": [
    "hickey_data['Year'] = hickey_data['FILM'].str[-5:-1]\n",
    "hickey_data['Year'].value_counts()"
   ]
  },
  {
   "cell_type": "markdown",
   "metadata": {},
   "source": [
    "So there are 17 movies needing removal from the hickey dataset."
   ]
  },
  {
   "cell_type": "code",
   "execution_count": 9,
   "metadata": {
    "collapsed": false
   },
   "outputs": [
    {
     "data": {
      "text/plain": [
       "2015    129\n",
       "Name: Year, dtype: int64"
      ]
     },
     "execution_count": 9,
     "metadata": {},
     "output_type": "execute_result"
    }
   ],
   "source": [
    "hickey_data = hickey_data[hickey_data['Year'] == '2015']\n",
    "hickey_data['Year'].value_counts()"
   ]
  },
  {
   "cell_type": "markdown",
   "metadata": {},
   "source": [
    "Now let's look at the post-article dataset."
   ]
  },
  {
   "cell_type": "code",
   "execution_count": 10,
   "metadata": {
    "collapsed": false
   },
   "outputs": [
    {
     "data": {
      "text/plain": [
       "2016    191\n",
       "2017     23\n",
       "Name: year, dtype: int64"
      ]
     },
     "execution_count": 10,
     "metadata": {},
     "output_type": "execute_result"
    }
   ],
   "source": [
    "post_article['year'].value_counts()"
   ]
  },
  {
   "cell_type": "code",
   "execution_count": 11,
   "metadata": {
    "collapsed": false
   },
   "outputs": [
    {
     "data": {
      "text/plain": [
       "2016    191\n",
       "Name: year, dtype: int64"
      ]
     },
     "execution_count": 11,
     "metadata": {},
     "output_type": "execute_result"
    }
   ],
   "source": [
    "post_article = post_article[post_article['year'] == 2016]\n",
    "post_article['year'].value_counts()"
   ]
  },
  {
   "cell_type": "markdown",
   "metadata": {},
   "source": [
    "## Generating Plots"
   ]
  },
  {
   "cell_type": "markdown",
   "metadata": {},
   "source": [
    "Now that we have some clean datasets, let's generate some basic plots for a general idea of what's happening."
   ]
  },
  {
   "cell_type": "code",
   "execution_count": 12,
   "metadata": {
    "collapsed": true
   },
   "outputs": [],
   "source": [
    "plt.style.use('fivethirtyeight')\n",
    "from numpy import arange"
   ]
  },
  {
   "cell_type": "code",
   "execution_count": 14,
   "metadata": {
    "collapsed": false
   },
   "outputs": [
    {
     "data": {
      "image/png": "[encoded data removed]",
      "text/plain": [
       "<matplotlib.figure.Figure at 0x7f09f3abe828>"
      ]
     },
     "metadata": {},
     "output_type": "display_data"
    }
   ],
   "source": [
    "hickey_data['Fandango_Stars'].plot.kde(label = '2015', legend = True,\n",
    "                                       figsize = (8,5.5))\n",
    "post_article['fandango'].plot.kde(label = '2016', legend = True)\n",
    "plt.legend(loc = 2, prop = {'size' : 15}) #Changes location and enlarges\n",
    "plt.xlabel('Stars')\n",
    "plt.title('Fandango Stars Rating (2015 vs 2016)', \n",
    "          y = 1.05, fontdict = {'fontsize' : 30}) #Shifts title up and enlarges\n",
    "plt.xlim(0,5) #Range for x axis\n",
    "plt.xticks(arange(0,5.1,.5)) #Intervals for the x axis ticks\n",
    "plt.show()"
   ]
  },
  {
   "cell_type": "markdown",
   "metadata": {},
   "source": [
    "### 2015\n",
    "From this graph we see the obvious left skewed nature of the distribution, with no representation under 3.0, which is exactly what Hickey stated in his analysis. There is also a peak at 4.5, the data is truly bloated towards the higher end of the range."
   ]
  },
  {
   "cell_type": "markdown",
   "metadata": {},
   "source": [
    "### 2016\n",
    "2016 shows somewhat of a fix, as the numbers aren't as dramatically skewed leftwards. There is also representation of movies under 3.0, so it seems like there have been improvements made. I still think there is some sort of alteration as there have to be some movies that were truly deserving of <2.0 scores. Maybe this was a lucky year?"
   ]
  },
  {
   "cell_type": "markdown",
   "metadata": {},
   "source": [
    "### Frequency Tables\n",
    "Let's generate some frequency tables to look at the raw numbers."
   ]
  },
  {
   "cell_type": "code",
   "execution_count": 22,
   "metadata": {
    "collapsed": false
   },
   "outputs": [
    {
     "name": "stdout",
     "output_type": "stream",
     "text": [
      "2015\n",
      "----------------\n",
      "3.0     8.527132\n",
      "3.5    17.829457\n",
      "4.0    28.682171\n",
      "4.5    37.984496\n",
      "5.0     6.976744\n",
      "Name: Fandango_Stars, dtype: float64\n"
     ]
    }
   ],
   "source": [
    "print('2015\\n' + '-'*16 )\n",
    "print(hickey_data['Fandango_Stars'].value_counts(normalize = True).sort_index()*100)"
   ]
  },
  {
   "cell_type": "code",
   "execution_count": 23,
   "metadata": {
    "collapsed": false,
    "scrolled": true
   },
   "outputs": [
    {
     "name": "stdout",
     "output_type": "stream",
     "text": [
      "2016\n",
      "----------------\n",
      "2.5     3.141361\n",
      "3.0     7.329843\n",
      "3.5    24.083770\n",
      "4.0    40.314136\n",
      "4.5    24.607330\n",
      "5.0     0.523560\n",
      "Name: fandango, dtype: float64\n"
     ]
    }
   ],
   "source": [
    "print('2016\\n' + '-'*16 )\n",
    "print(post_article['fandango'].value_counts(normalize = True).sort_index()*100)"
   ]
  },
  {
   "cell_type": "markdown",
   "metadata": {},
   "source": [
    "I believe there is a dramatic change between the two years. 2015 had no representation below 3.0 (just like the graph displayed), and had >10X more movies rated 5.0 than 2016. The highest represented rating was 4.5, whereas in 2016 4.0 was the dominant rating. Overall as we transition from 2015 to 2016, the distribution is less skewed to the left and becomes a bit more averaged towards the middle of [0,5]"
   ]
  },
  {
   "cell_type": "markdown",
   "metadata": {},
   "source": [
    "### Summary Statistics\n",
    "For further precision, let's present some of the simple statistics to exemplify the difference between these two years of ratings."
   ]
  },
  {
   "cell_type": "code",
   "execution_count": 41,
   "metadata": {
    "collapsed": false
   },
   "outputs": [
    {
     "name": "stdout",
     "output_type": "stream",
     "text": [
      "2015 (Hickey Summary Statistics)\n",
      "----------------\n",
      "Mean: 4.0852713178294575\n",
      "Median: 4.0\n",
      "Mode: 4.5\n"
     ]
    }
   ],
   "source": [
    "mean_hickey = hickey_data['Fandango_Stars'].mean()\n",
    "median_hickey = hickey_data['Fandango_Stars'].median()\n",
    "mode_hickey = hickey_data['Fandango_Stars'].mode()[0] #Mode output is weird\n",
    "print('2015 (Hickey Summary Statistics)\\n'+ '-'*16)\n",
    "print('Mean:', mean_hickey)\n",
    "print('Median:', median_hickey)\n",
    "print('Mode:', mode_hickey)"
   ]
  },
  {
   "cell_type": "code",
   "execution_count": 40,
   "metadata": {
    "collapsed": false,
    "scrolled": true
   },
   "outputs": [
    {
     "name": "stdout",
     "output_type": "stream",
     "text": [
      "2016 (Post-Article Summary Statistics)\n",
      "----------------\n",
      "Mean: 3.887434554973822\n",
      "Median: 4.0\n",
      "Mode: 4.0\n"
     ]
    }
   ],
   "source": [
    "mean_post = post_article['fandango'].mean()\n",
    "median_post = post_article['fandango'].median()\n",
    "mode_post = post_article['fandango'].mode()[0]\n",
    "print('2016 (Post-Article Summary Statistics)\\n'+ '-'*16)\n",
    "print('Mean:', mean_post)\n",
    "print('Median:', median_post)\n",
    "print('Mode:', mode_post)"
   ]
  },
  {
   "cell_type": "code",
   "execution_count": 36,
   "metadata": {
    "collapsed": true
   },
   "outputs": [],
   "source": [
    "summary = pd.DataFrame()\n",
    "summary['2015'] = [mean_hickey,median_hickey,mode_hickey]\n",
    "summary['2016'] = [mean_post,median_post,mode_post]\n",
    "summary.index = ['Mean','Median','Mode']"
   ]
  },
  {
   "cell_type": "code",
   "execution_count": 39,
   "metadata": {
    "collapsed": false
   },
   "outputs": [
    {
     "data": {
      "text/html": [
       "<div>\n",
       "<style scoped>\n",
       "    .dataframe tbody tr th:only-of-type {\n",
       "        vertical-align: middle;\n",
       "    }\n",
       "\n",
       "    .dataframe tbody tr th {\n",
       "        vertical-align: top;\n",
       "    }\n",
       "\n",
       "    .dataframe thead th {\n",
       "        text-align: right;\n",
       "    }\n",
       "</style>\n",
       "<table border=\"1\" class=\"dataframe\">\n",
       "  <thead>\n",
       "    <tr style=\"text-align: right;\">\n",
       "      <th></th>\n",
       "      <th>2015</th>\n",
       "      <th>2016</th>\n",
       "    </tr>\n",
       "  </thead>\n",
       "  <tbody>\n",
       "    <tr>\n",
       "      <th>Mean</th>\n",
       "      <td>4.085271</td>\n",
       "      <td>3.887435</td>\n",
       "    </tr>\n",
       "    <tr>\n",
       "      <th>Median</th>\n",
       "      <td>4.000000</td>\n",
       "      <td>4.000000</td>\n",
       "    </tr>\n",
       "    <tr>\n",
       "      <th>Mode</th>\n",
       "      <td>4.500000</td>\n",
       "      <td>4.000000</td>\n",
       "    </tr>\n",
       "  </tbody>\n",
       "</table>\n",
       "</div>"
      ],
      "text/plain": [
       "            2015      2016\n",
       "Mean    4.085271  3.887435\n",
       "Median  4.000000  4.000000\n",
       "Mode    4.500000  4.000000"
      ]
     },
     "execution_count": 39,
     "metadata": {},
     "output_type": "execute_result"
    }
   ],
   "source": [
    "summary"
   ]
  },
  {
   "cell_type": "code",
   "execution_count": 74,
   "metadata": {
    "collapsed": false
   },
   "outputs": [
    {
     "data": {
      "image/png": "[encoded data removed]",
      "text/plain": [
       "<matplotlib.figure.Figure at 0x7f09eb54e588>"
      ]
     },
     "metadata": {},
     "output_type": "display_data"
    }
   ],
   "source": [
    "summary['2015'].plot.bar(color = '#0066FF', align = 'center', label = '2015', width = .25)\n",
    "summary['2016'].plot.bar(color = '#CC0000', align = 'edge', label = '2016', width = .25,\n",
    "                         rot = 0, figsize = (8,5))\n",
    "plt.title('Summary Statistics from 2015 to 2016', y = 1.08)\n",
    "plt.ylim(0,5.5)\n",
    "plt.yticks(arange(0,5.1,.5))\n",
    "plt.ylabel('Stars')\n",
    "plt.legend(loc = 'upper center',framealpha = 0, prop = {'size' : 15})\n",
    "plt.show()"
   ]
  },
  {
   "cell_type": "markdown",
   "metadata": {},
   "source": [
    "This is actually a bit surprising, sort of means the tables aren't too different. The stark difference is in Mode, it's clear that 2015 was handing out higher stars than they did a year later. The mean is simply a reflection of that."
   ]
  },
  {
   "cell_type": "markdown",
   "metadata": {},
   "source": [
    "# Conclusion\n",
    "Our analysis shows that Fandango may have amended their system slightly. Movie ratings, on average, were lower in 2016 compared to 2015. While this could just be a coincidence of having a year of simply worse movies, it could also mean that Fandango noticed Hickey's article and chose to fix their possibly tainted reputation. "
   ]
  }
 ],
 "metadata": {
  "kernelspec": {
   "display_name": "Python 3",
   "language": "python",
   "name": "python3"
  },
  "language_info": {
   "codemirror_mode": {
    "name": "ipython",
    "version": 3
   },
   "file_extension": ".py",
   "mimetype": "text/x-python",
   "name": "python",
   "nbconvert_exporter": "python",
   "pygments_lexer": "ipython3",
   "version": "3.4.3"
  }
 },
 "nbformat": 4,
 "nbformat_minor": 2
}
