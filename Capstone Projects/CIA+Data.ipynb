{
 "cells": [
  {
   "cell_type": "markdown",
   "metadata": {},
   "source": [
    "# Analyzing CIA Data"
   ]
  },
  {
   "cell_type": "markdown",
   "metadata": {},
   "source": [
    "This project utilizes SQL to analyze a database from CIA World Factbook, a compendium of statistics about all of the countries on Earth. "
   ]
  },
  {
   "cell_type": "code",
   "execution_count": 3,
   "metadata": {
    "collapsed": false
   },
   "outputs": [
    {
     "data": {
      "text/plain": [
       "'Connected: None@factbook.db'"
      ]
     },
     "execution_count": 3,
     "metadata": {},
     "output_type": "execute_result"
    }
   ],
   "source": [
    "%%capture\n",
    "%load_ext sql\n",
    "%sql sqlite:///factbook.db #This connects out notebook to the file"
   ]
  },
  {
   "cell_type": "markdown",
   "metadata": {},
   "source": [
    "# First Glance"
   ]
  },
  {
   "cell_type": "code",
   "execution_count": 8,
   "metadata": {
    "collapsed": false
   },
   "outputs": [
    {
     "name": "stdout",
     "output_type": "stream",
     "text": [
      "Done.\n"
     ]
    },
    {
     "data": {
      "text/html": [
       "<table>\n",
       "    <tr>\n",
       "        <th>id</th>\n",
       "        <th>code</th>\n",
       "        <th>name</th>\n",
       "        <th>area</th>\n",
       "        <th>area_land</th>\n",
       "        <th>area_water</th>\n",
       "        <th>population</th>\n",
       "        <th>population_growth</th>\n",
       "        <th>birth_rate</th>\n",
       "        <th>death_rate</th>\n",
       "        <th>migration_rate</th>\n",
       "    </tr>\n",
       "    <tr>\n",
       "        <td>1</td>\n",
       "        <td>af</td>\n",
       "        <td>Afghanistan</td>\n",
       "        <td>652230</td>\n",
       "        <td>652230</td>\n",
       "        <td>0</td>\n",
       "        <td>32564342</td>\n",
       "        <td>2.32</td>\n",
       "        <td>38.57</td>\n",
       "        <td>13.89</td>\n",
       "        <td>1.51</td>\n",
       "    </tr>\n",
       "    <tr>\n",
       "        <td>2</td>\n",
       "        <td>al</td>\n",
       "        <td>Albania</td>\n",
       "        <td>28748</td>\n",
       "        <td>27398</td>\n",
       "        <td>1350</td>\n",
       "        <td>3029278</td>\n",
       "        <td>0.3</td>\n",
       "        <td>12.92</td>\n",
       "        <td>6.58</td>\n",
       "        <td>3.3</td>\n",
       "    </tr>\n",
       "    <tr>\n",
       "        <td>3</td>\n",
       "        <td>ag</td>\n",
       "        <td>Algeria</td>\n",
       "        <td>2381741</td>\n",
       "        <td>2381741</td>\n",
       "        <td>0</td>\n",
       "        <td>39542166</td>\n",
       "        <td>1.84</td>\n",
       "        <td>23.67</td>\n",
       "        <td>4.31</td>\n",
       "        <td>0.92</td>\n",
       "    </tr>\n",
       "    <tr>\n",
       "        <td>4</td>\n",
       "        <td>an</td>\n",
       "        <td>Andorra</td>\n",
       "        <td>468</td>\n",
       "        <td>468</td>\n",
       "        <td>0</td>\n",
       "        <td>85580</td>\n",
       "        <td>0.12</td>\n",
       "        <td>8.13</td>\n",
       "        <td>6.96</td>\n",
       "        <td>0.0</td>\n",
       "    </tr>\n",
       "    <tr>\n",
       "        <td>5</td>\n",
       "        <td>ao</td>\n",
       "        <td>Angola</td>\n",
       "        <td>1246700</td>\n",
       "        <td>1246700</td>\n",
       "        <td>0</td>\n",
       "        <td>19625353</td>\n",
       "        <td>2.78</td>\n",
       "        <td>38.78</td>\n",
       "        <td>11.49</td>\n",
       "        <td>0.46</td>\n",
       "    </tr>\n",
       "</table>"
      ],
      "text/plain": [
       "[(1, 'af', 'Afghanistan', 652230, 652230, 0, 32564342, 2.32, 38.57, 13.89, 1.51),\n",
       " (2, 'al', 'Albania', 28748, 27398, 1350, 3029278, 0.3, 12.92, 6.58, 3.3),\n",
       " (3, 'ag', 'Algeria', 2381741, 2381741, 0, 39542166, 1.84, 23.67, 4.31, 0.92),\n",
       " (4, 'an', 'Andorra', 468, 468, 0, 85580, 0.12, 8.13, 6.96, 0.0),\n",
       " (5, 'ao', 'Angola', 1246700, 1246700, 0, 19625353, 2.78, 38.78, 11.49, 0.46)]"
      ]
     },
     "execution_count": 8,
     "metadata": {},
     "output_type": "execute_result"
    }
   ],
   "source": [
    "%%sql\n",
    "SELECT *\n",
    "  FROM facts\n",
    "limit 5; #Prints the top 5 rows of the database"
   ]
  },
  {
   "cell_type": "markdown",
   "metadata": {},
   "source": [
    "It looks like these are the columns we'll be working with:\n",
    "- name : The name of the country\n",
    "- area : The country's total area (both land and water)\n",
    "- area_land : Country's land area in square km\n",
    "- area_water : Country's water area in square km\n",
    "- population : Country's population\n",
    "- population_growth : Country's population growth as a %\n",
    "- birth_rate : Country's birth rate, or the number of births per year per 1,000 people.\n",
    "- death_rate : Country's death rate, or the number of deaths per year per 1,000 people. "
   ]
  },
  {
   "cell_type": "markdown",
   "metadata": {},
   "source": [
    "# Min/Maxes"
   ]
  },
  {
   "cell_type": "markdown",
   "metadata": {},
   "source": [
    "Let's just explore some of the basic functions of SQL by identifying the minimums and maximums in terms of population and population growth."
   ]
  },
  {
   "cell_type": "code",
   "execution_count": 11,
   "metadata": {
    "collapsed": false,
    "scrolled": true
   },
   "outputs": [
    {
     "name": "stdout",
     "output_type": "stream",
     "text": [
      "Done.\n"
     ]
    },
    {
     "data": {
      "text/html": [
       "<table>\n",
       "    <tr>\n",
       "        <th>Minimum Population</th>\n",
       "        <th>Maximum Population</th>\n",
       "        <th>Minimum Population Growth</th>\n",
       "        <th>Maximum Population Growth</th>\n",
       "    </tr>\n",
       "    <tr>\n",
       "        <td>0</td>\n",
       "        <td>7256490011</td>\n",
       "        <td>0.0</td>\n",
       "        <td>4.02</td>\n",
       "    </tr>\n",
       "</table>"
      ],
      "text/plain": [
       "[(0, 7256490011, 0.0, 4.02)]"
      ]
     },
     "execution_count": 11,
     "metadata": {},
     "output_type": "execute_result"
    }
   ],
   "source": [
    "%%sql\n",
    "select MIN(population) as 'Minimum Population',\n",
    "       MAX(population) as 'Maximum Population',\n",
    "        Min(population_growth) as 'Minimum Population Growth',\n",
    "        Max(population_growth) as 'Maximum Population Growth'\n",
    "    from facts;"
   ]
  },
  {
   "cell_type": "markdown",
   "metadata": {},
   "source": [
    "There is a country with 0 people and one with 7 billion, which is probably just the world. And also for growth there is a country with 0 growth and the highest being 4.02. "
   ]
  },
  {
   "cell_type": "markdown",
   "metadata": {},
   "source": [
    "# Identification "
   ]
  },
  {
   "cell_type": "markdown",
   "metadata": {},
   "source": [
    "Let's identify which countries exhibit these rates and populations by doing some nested queries."
   ]
  },
  {
   "cell_type": "code",
   "execution_count": 17,
   "metadata": {
    "collapsed": false
   },
   "outputs": [
    {
     "name": "stdout",
     "output_type": "stream",
     "text": [
      "Done.\n"
     ]
    },
    {
     "data": {
      "text/html": [
       "<table>\n",
       "    <tr>\n",
       "        <th>id</th>\n",
       "        <th>code</th>\n",
       "        <th>name</th>\n",
       "        <th>area</th>\n",
       "        <th>area_land</th>\n",
       "        <th>area_water</th>\n",
       "        <th>population</th>\n",
       "        <th>population_growth</th>\n",
       "        <th>birth_rate</th>\n",
       "        <th>death_rate</th>\n",
       "        <th>migration_rate</th>\n",
       "    </tr>\n",
       "    <tr>\n",
       "        <td>250</td>\n",
       "        <td>ay</td>\n",
       "        <td>Antarctica</td>\n",
       "        <td>None</td>\n",
       "        <td>280000</td>\n",
       "        <td>None</td>\n",
       "        <td>0</td>\n",
       "        <td>None</td>\n",
       "        <td>None</td>\n",
       "        <td>None</td>\n",
       "        <td>None</td>\n",
       "    </tr>\n",
       "</table>"
      ],
      "text/plain": [
       "[(250, 'ay', 'Antarctica', None, 280000, None, 0, None, None, None, None)]"
      ]
     },
     "execution_count": 17,
     "metadata": {},
     "output_type": "execute_result"
    }
   ],
   "source": [
    "%%sql\n",
    "select *\n",
    "    from facts\n",
    "    where population == (select min(population) \n",
    "                         from facts);"
   ]
  },
  {
   "cell_type": "markdown",
   "metadata": {},
   "source": [
    "Antartica is the country with no one living there as of now."
   ]
  },
  {
   "cell_type": "code",
   "execution_count": 18,
   "metadata": {
    "collapsed": false,
    "scrolled": true
   },
   "outputs": [
    {
     "name": "stdout",
     "output_type": "stream",
     "text": [
      "Done.\n"
     ]
    },
    {
     "data": {
      "text/html": [
       "<table>\n",
       "    <tr>\n",
       "        <th>id</th>\n",
       "        <th>code</th>\n",
       "        <th>name</th>\n",
       "        <th>area</th>\n",
       "        <th>area_land</th>\n",
       "        <th>area_water</th>\n",
       "        <th>population</th>\n",
       "        <th>population_growth</th>\n",
       "        <th>birth_rate</th>\n",
       "        <th>death_rate</th>\n",
       "        <th>migration_rate</th>\n",
       "    </tr>\n",
       "    <tr>\n",
       "        <td>261</td>\n",
       "        <td>xx</td>\n",
       "        <td>World</td>\n",
       "        <td>None</td>\n",
       "        <td>None</td>\n",
       "        <td>None</td>\n",
       "        <td>7256490011</td>\n",
       "        <td>1.08</td>\n",
       "        <td>18.6</td>\n",
       "        <td>7.8</td>\n",
       "        <td>None</td>\n",
       "    </tr>\n",
       "</table>"
      ],
      "text/plain": [
       "[(261, 'xx', 'World', None, None, None, 7256490011, 1.08, 18.6, 7.8, None)]"
      ]
     },
     "execution_count": 18,
     "metadata": {},
     "output_type": "execute_result"
    }
   ],
   "source": [
    "%%sql\n",
    "select *\n",
    "    from facts\n",
    "    where population == (select max(population) \n",
    "                         from facts);"
   ]
  },
  {
   "cell_type": "markdown",
   "metadata": {},
   "source": [
    "And for some reason the world is counted as a country in this dataset, a little cheap for my taste but I guess it's a cool statistic to look at. "
   ]
  },
  {
   "cell_type": "markdown",
   "metadata": {},
   "source": [
    "# Removing the whole World"
   ]
  },
  {
   "cell_type": "markdown",
   "metadata": {},
   "source": [
    "Although this chapter title sounds dramatic, we'll simply be removing the world row from previous calculations to get rid of it's huge outlier. "
   ]
  },
  {
   "cell_type": "code",
   "execution_count": 22,
   "metadata": {
    "collapsed": false,
    "scrolled": true
   },
   "outputs": [
    {
     "name": "stdout",
     "output_type": "stream",
     "text": [
      "Done.\n"
     ]
    },
    {
     "data": {
      "text/html": [
       "<table>\n",
       "    <tr>\n",
       "        <th>Minimum Population</th>\n",
       "        <th>Maximum Population</th>\n",
       "        <th>Minimum Population Growth</th>\n",
       "        <th>Maximum Population Growth</th>\n",
       "    </tr>\n",
       "    <tr>\n",
       "        <td>0</td>\n",
       "        <td>1367485388</td>\n",
       "        <td>0.0</td>\n",
       "        <td>4.02</td>\n",
       "    </tr>\n",
       "</table>"
      ],
      "text/plain": [
       "[(0, 1367485388, 0.0, 4.02)]"
      ]
     },
     "execution_count": 22,
     "metadata": {},
     "output_type": "execute_result"
    }
   ],
   "source": [
    "%%sql\n",
    "select MIN(population) as 'Minimum Population',\n",
    "       MAX(population) as 'Maximum Population',\n",
    "        Min(population_growth) as 'Minimum Population Growth',\n",
    "        Max(population_growth) as 'Maximum Population Growth'\n",
    "    from facts\n",
    "    where name <> 'World'; # <> Means to not equal"
   ]
  },
  {
   "cell_type": "markdown",
   "metadata": {},
   "source": [
    "With the removal of world, we see a dramatic drop in maximum population as that was obviously the placeholder for that statistics."
   ]
  },
  {
   "cell_type": "code",
   "execution_count": 30,
   "metadata": {
    "collapsed": false
   },
   "outputs": [
    {
     "name": "stdout",
     "output_type": "stream",
     "text": [
      "Done.\n"
     ]
    },
    {
     "data": {
      "text/html": [
       "<table>\n",
       "    <tr>\n",
       "        <th>Average Population</th>\n",
       "        <th>Average area of Country</th>\n",
       "    </tr>\n",
       "    <tr>\n",
       "        <td>32242666.57</td>\n",
       "        <td>555093.55</td>\n",
       "    </tr>\n",
       "</table>"
      ],
      "text/plain": [
       "[(32242666.57, 555093.55)]"
      ]
     },
     "execution_count": 30,
     "metadata": {},
     "output_type": "execute_result"
    }
   ],
   "source": [
    "%%sql\n",
    "select round(AVG(population),2) as 'Average Population',\n",
    "       round(AVG(area),2) as 'Average area of Country'\n",
    "    from facts\n",
    "    where name <> 'World';"
   ]
  },
  {
   "cell_type": "markdown",
   "metadata": {},
   "source": [
    "We see that the average population is around 32 million and the average area is 555 thousand square kilometers"
   ]
  },
  {
   "cell_type": "markdown",
   "metadata": {},
   "source": [
    "# Densely populated Areas"
   ]
  },
  {
   "cell_type": "markdown",
   "metadata": {},
   "source": [
    "To finish we'll write a query that matches the following:\n",
    "- Above-average values for population.\n",
    "- Below-average values for area."
   ]
  },
  {
   "cell_type": "code",
   "execution_count": 32,
   "metadata": {
    "collapsed": false
   },
   "outputs": [
    {
     "name": "stdout",
     "output_type": "stream",
     "text": [
      "Done.\n"
     ]
    },
    {
     "data": {
      "text/html": [
       "<table>\n",
       "    <tr>\n",
       "        <th>id</th>\n",
       "        <th>code</th>\n",
       "        <th>name</th>\n",
       "        <th>area</th>\n",
       "        <th>area_land</th>\n",
       "        <th>area_water</th>\n",
       "        <th>population</th>\n",
       "        <th>population_growth</th>\n",
       "        <th>birth_rate</th>\n",
       "        <th>death_rate</th>\n",
       "        <th>migration_rate</th>\n",
       "    </tr>\n",
       "    <tr>\n",
       "        <td>143</td>\n",
       "        <td>rs</td>\n",
       "        <td>Russia</td>\n",
       "        <td>17098242</td>\n",
       "        <td>16377742</td>\n",
       "        <td>720500</td>\n",
       "        <td>142423773</td>\n",
       "        <td>0.04</td>\n",
       "        <td>11.6</td>\n",
       "        <td>13.69</td>\n",
       "        <td>1.69</td>\n",
       "    </tr>\n",
       "    <tr>\n",
       "        <td>32</td>\n",
       "        <td>ca</td>\n",
       "        <td>Canada</td>\n",
       "        <td>9984670</td>\n",
       "        <td>9093507</td>\n",
       "        <td>891163</td>\n",
       "        <td>35099836</td>\n",
       "        <td>0.75</td>\n",
       "        <td>10.28</td>\n",
       "        <td>8.42</td>\n",
       "        <td>5.66</td>\n",
       "    </tr>\n",
       "    <tr>\n",
       "        <td>186</td>\n",
       "        <td>us</td>\n",
       "        <td>United States</td>\n",
       "        <td>9826675</td>\n",
       "        <td>9161966</td>\n",
       "        <td>664709</td>\n",
       "        <td>321368864</td>\n",
       "        <td>0.78</td>\n",
       "        <td>12.49</td>\n",
       "        <td>8.15</td>\n",
       "        <td>3.86</td>\n",
       "    </tr>\n",
       "    <tr>\n",
       "        <td>37</td>\n",
       "        <td>ch</td>\n",
       "        <td>China</td>\n",
       "        <td>9596960</td>\n",
       "        <td>9326410</td>\n",
       "        <td>270550</td>\n",
       "        <td>1367485388</td>\n",
       "        <td>0.45</td>\n",
       "        <td>12.49</td>\n",
       "        <td>7.53</td>\n",
       "        <td>0.44</td>\n",
       "    </tr>\n",
       "    <tr>\n",
       "        <td>24</td>\n",
       "        <td>br</td>\n",
       "        <td>Brazil</td>\n",
       "        <td>8515770</td>\n",
       "        <td>8358140</td>\n",
       "        <td>157630</td>\n",
       "        <td>204259812</td>\n",
       "        <td>0.77</td>\n",
       "        <td>14.46</td>\n",
       "        <td>6.58</td>\n",
       "        <td>0.14</td>\n",
       "    </tr>\n",
       "    <tr>\n",
       "        <td>197</td>\n",
       "        <td>ee</td>\n",
       "        <td>European Union</td>\n",
       "        <td>4324782</td>\n",
       "        <td>None</td>\n",
       "        <td>None</td>\n",
       "        <td>513949445</td>\n",
       "        <td>0.25</td>\n",
       "        <td>10.2</td>\n",
       "        <td>10.2</td>\n",
       "        <td>2.5</td>\n",
       "    </tr>\n",
       "    <tr>\n",
       "        <td>77</td>\n",
       "        <td>in</td>\n",
       "        <td>India</td>\n",
       "        <td>3287263</td>\n",
       "        <td>2973193</td>\n",
       "        <td>314070</td>\n",
       "        <td>1251695584</td>\n",
       "        <td>1.22</td>\n",
       "        <td>19.55</td>\n",
       "        <td>7.32</td>\n",
       "        <td>0.04</td>\n",
       "    </tr>\n",
       "    <tr>\n",
       "        <td>7</td>\n",
       "        <td>ar</td>\n",
       "        <td>Argentina</td>\n",
       "        <td>2780400</td>\n",
       "        <td>2736690</td>\n",
       "        <td>43710</td>\n",
       "        <td>43431886</td>\n",
       "        <td>0.93</td>\n",
       "        <td>16.64</td>\n",
       "        <td>7.33</td>\n",
       "        <td>0.0</td>\n",
       "    </tr>\n",
       "    <tr>\n",
       "        <td>3</td>\n",
       "        <td>ag</td>\n",
       "        <td>Algeria</td>\n",
       "        <td>2381741</td>\n",
       "        <td>2381741</td>\n",
       "        <td>0</td>\n",
       "        <td>39542166</td>\n",
       "        <td>1.84</td>\n",
       "        <td>23.67</td>\n",
       "        <td>4.31</td>\n",
       "        <td>0.92</td>\n",
       "    </tr>\n",
       "    <tr>\n",
       "        <td>40</td>\n",
       "        <td>cg</td>\n",
       "        <td>Congo, Democratic Republic of the</td>\n",
       "        <td>2344858</td>\n",
       "        <td>2267048</td>\n",
       "        <td>77810</td>\n",
       "        <td>79375136</td>\n",
       "        <td>2.45</td>\n",
       "        <td>34.88</td>\n",
       "        <td>10.07</td>\n",
       "        <td>0.27</td>\n",
       "    </tr>\n",
       "    <tr>\n",
       "        <td>114</td>\n",
       "        <td>mx</td>\n",
       "        <td>Mexico</td>\n",
       "        <td>1964375</td>\n",
       "        <td>1943945</td>\n",
       "        <td>20430</td>\n",
       "        <td>121736809</td>\n",
       "        <td>1.18</td>\n",
       "        <td>18.78</td>\n",
       "        <td>5.26</td>\n",
       "        <td>1.68</td>\n",
       "    </tr>\n",
       "    <tr>\n",
       "        <td>78</td>\n",
       "        <td>id</td>\n",
       "        <td>Indonesia</td>\n",
       "        <td>1904569</td>\n",
       "        <td>1811569</td>\n",
       "        <td>93000</td>\n",
       "        <td>255993674</td>\n",
       "        <td>0.92</td>\n",
       "        <td>16.72</td>\n",
       "        <td>6.37</td>\n",
       "        <td>1.16</td>\n",
       "    </tr>\n",
       "    <tr>\n",
       "        <td>165</td>\n",
       "        <td>su</td>\n",
       "        <td>Sudan</td>\n",
       "        <td>1861484</td>\n",
       "        <td>None</td>\n",
       "        <td>None</td>\n",
       "        <td>36108853</td>\n",
       "        <td>1.72</td>\n",
       "        <td>29.19</td>\n",
       "        <td>7.66</td>\n",
       "        <td>4.29</td>\n",
       "    </tr>\n",
       "    <tr>\n",
       "        <td>79</td>\n",
       "        <td>ir</td>\n",
       "        <td>Iran</td>\n",
       "        <td>1648195</td>\n",
       "        <td>1531595</td>\n",
       "        <td>116600</td>\n",
       "        <td>81824270</td>\n",
       "        <td>1.2</td>\n",
       "        <td>17.99</td>\n",
       "        <td>5.94</td>\n",
       "        <td>0.07</td>\n",
       "    </tr>\n",
       "    <tr>\n",
       "        <td>161</td>\n",
       "        <td>sf</td>\n",
       "        <td>South Africa</td>\n",
       "        <td>1219090</td>\n",
       "        <td>1214470</td>\n",
       "        <td>4620</td>\n",
       "        <td>53675563</td>\n",
       "        <td>1.33</td>\n",
       "        <td>20.75</td>\n",
       "        <td>9.91</td>\n",
       "        <td>2.42</td>\n",
       "    </tr>\n",
       "    <tr>\n",
       "        <td>38</td>\n",
       "        <td>co</td>\n",
       "        <td>Colombia</td>\n",
       "        <td>1138910</td>\n",
       "        <td>1038700</td>\n",
       "        <td>100210</td>\n",
       "        <td>46736728</td>\n",
       "        <td>1.04</td>\n",
       "        <td>16.47</td>\n",
       "        <td>5.4</td>\n",
       "        <td>0.64</td>\n",
       "    </tr>\n",
       "    <tr>\n",
       "        <td>58</td>\n",
       "        <td>et</td>\n",
       "        <td>Ethiopia</td>\n",
       "        <td>1104300</td>\n",
       "        <td>None</td>\n",
       "        <td>104300</td>\n",
       "        <td>99465819</td>\n",
       "        <td>2.89</td>\n",
       "        <td>37.27</td>\n",
       "        <td>8.19</td>\n",
       "        <td>0.22</td>\n",
       "    </tr>\n",
       "    <tr>\n",
       "        <td>53</td>\n",
       "        <td>eg</td>\n",
       "        <td>Egypt</td>\n",
       "        <td>1001450</td>\n",
       "        <td>995450</td>\n",
       "        <td>6000</td>\n",
       "        <td>88487396</td>\n",
       "        <td>1.79</td>\n",
       "        <td>22.9</td>\n",
       "        <td>4.77</td>\n",
       "        <td>0.19</td>\n",
       "    </tr>\n",
       "    <tr>\n",
       "        <td>172</td>\n",
       "        <td>tz</td>\n",
       "        <td>Tanzania</td>\n",
       "        <td>947300</td>\n",
       "        <td>885800</td>\n",
       "        <td>61500</td>\n",
       "        <td>51045882</td>\n",
       "        <td>2.79</td>\n",
       "        <td>36.39</td>\n",
       "        <td>8.0</td>\n",
       "        <td>0.54</td>\n",
       "    </tr>\n",
       "    <tr>\n",
       "        <td>129</td>\n",
       "        <td>ni</td>\n",
       "        <td>Nigeria</td>\n",
       "        <td>923768</td>\n",
       "        <td>910768</td>\n",
       "        <td>13000</td>\n",
       "        <td>181562056</td>\n",
       "        <td>2.45</td>\n",
       "        <td>37.64</td>\n",
       "        <td>12.9</td>\n",
       "        <td>0.22</td>\n",
       "    </tr>\n",
       "    <tr>\n",
       "        <td>132</td>\n",
       "        <td>pk</td>\n",
       "        <td>Pakistan</td>\n",
       "        <td>796095</td>\n",
       "        <td>770875</td>\n",
       "        <td>25220</td>\n",
       "        <td>199085847</td>\n",
       "        <td>1.46</td>\n",
       "        <td>22.58</td>\n",
       "        <td>6.49</td>\n",
       "        <td>1.54</td>\n",
       "    </tr>\n",
       "    <tr>\n",
       "        <td>179</td>\n",
       "        <td>tu</td>\n",
       "        <td>Turkey</td>\n",
       "        <td>783562</td>\n",
       "        <td>769632</td>\n",
       "        <td>13930</td>\n",
       "        <td>79414269</td>\n",
       "        <td>1.26</td>\n",
       "        <td>16.33</td>\n",
       "        <td>5.88</td>\n",
       "        <td>2.16</td>\n",
       "    </tr>\n",
       "    <tr>\n",
       "        <td>28</td>\n",
       "        <td>bm</td>\n",
       "        <td>Burma</td>\n",
       "        <td>676578</td>\n",
       "        <td>653508</td>\n",
       "        <td>23070</td>\n",
       "        <td>56320206</td>\n",
       "        <td>1.01</td>\n",
       "        <td>18.39</td>\n",
       "        <td>7.96</td>\n",
       "        <td>0.28</td>\n",
       "    </tr>\n",
       "    <tr>\n",
       "        <td>1</td>\n",
       "        <td>af</td>\n",
       "        <td>Afghanistan</td>\n",
       "        <td>652230</td>\n",
       "        <td>652230</td>\n",
       "        <td>0</td>\n",
       "        <td>32564342</td>\n",
       "        <td>2.32</td>\n",
       "        <td>38.57</td>\n",
       "        <td>13.89</td>\n",
       "        <td>1.51</td>\n",
       "    </tr>\n",
       "    <tr>\n",
       "        <td>61</td>\n",
       "        <td>fr</td>\n",
       "        <td>France</td>\n",
       "        <td>643801</td>\n",
       "        <td>640427</td>\n",
       "        <td>3374</td>\n",
       "        <td>66553766</td>\n",
       "        <td>0.43</td>\n",
       "        <td>12.38</td>\n",
       "        <td>9.16</td>\n",
       "        <td>1.09</td>\n",
       "    </tr>\n",
       "    <tr>\n",
       "        <td>183</td>\n",
       "        <td>up</td>\n",
       "        <td>Ukraine</td>\n",
       "        <td>603550</td>\n",
       "        <td>579330</td>\n",
       "        <td>24220</td>\n",
       "        <td>44429471</td>\n",
       "        <td>0.6</td>\n",
       "        <td>10.72</td>\n",
       "        <td>14.46</td>\n",
       "        <td>2.25</td>\n",
       "    </tr>\n",
       "    <tr>\n",
       "        <td>88</td>\n",
       "        <td>ke</td>\n",
       "        <td>Kenya</td>\n",
       "        <td>580367</td>\n",
       "        <td>569140</td>\n",
       "        <td>11227</td>\n",
       "        <td>45925301</td>\n",
       "        <td>1.93</td>\n",
       "        <td>26.4</td>\n",
       "        <td>6.89</td>\n",
       "        <td>0.22</td>\n",
       "    </tr>\n",
       "</table>"
      ],
      "text/plain": [
       "[(143, 'rs', 'Russia', 17098242, 16377742, 720500, 142423773, 0.04, 11.6, 13.69, 1.69),\n",
       " (32, 'ca', 'Canada', 9984670, 9093507, 891163, 35099836, 0.75, 10.28, 8.42, 5.66),\n",
       " (186, 'us', 'United States', 9826675, 9161966, 664709, 321368864, 0.78, 12.49, 8.15, 3.86),\n",
       " (37, 'ch', 'China', 9596960, 9326410, 270550, 1367485388, 0.45, 12.49, 7.53, 0.44),\n",
       " (24, 'br', 'Brazil', 8515770, 8358140, 157630, 204259812, 0.77, 14.46, 6.58, 0.14),\n",
       " (197, 'ee', 'European Union', 4324782, None, None, 513949445, 0.25, 10.2, 10.2, 2.5),\n",
       " (77, 'in', 'India', 3287263, 2973193, 314070, 1251695584, 1.22, 19.55, 7.32, 0.04),\n",
       " (7, 'ar', 'Argentina', 2780400, 2736690, 43710, 43431886, 0.93, 16.64, 7.33, 0.0),\n",
       " (3, 'ag', 'Algeria', 2381741, 2381741, 0, 39542166, 1.84, 23.67, 4.31, 0.92),\n",
       " (40, 'cg', 'Congo, Democratic Republic of the', 2344858, 2267048, 77810, 79375136, 2.45, 34.88, 10.07, 0.27),\n",
       " (114, 'mx', 'Mexico', 1964375, 1943945, 20430, 121736809, 1.18, 18.78, 5.26, 1.68),\n",
       " (78, 'id', 'Indonesia', 1904569, 1811569, 93000, 255993674, 0.92, 16.72, 6.37, 1.16),\n",
       " (165, 'su', 'Sudan', 1861484, None, None, 36108853, 1.72, 29.19, 7.66, 4.29),\n",
       " (79, 'ir', 'Iran', 1648195, 1531595, 116600, 81824270, 1.2, 17.99, 5.94, 0.07),\n",
       " (161, 'sf', 'South Africa', 1219090, 1214470, 4620, 53675563, 1.33, 20.75, 9.91, 2.42),\n",
       " (38, 'co', 'Colombia', 1138910, 1038700, 100210, 46736728, 1.04, 16.47, 5.4, 0.64),\n",
       " (58, 'et', 'Ethiopia', 1104300, None, 104300, 99465819, 2.89, 37.27, 8.19, 0.22),\n",
       " (53, 'eg', 'Egypt', 1001450, 995450, 6000, 88487396, 1.79, 22.9, 4.77, 0.19),\n",
       " (172, 'tz', 'Tanzania', 947300, 885800, 61500, 51045882, 2.79, 36.39, 8.0, 0.54),\n",
       " (129, 'ni', 'Nigeria', 923768, 910768, 13000, 181562056, 2.45, 37.64, 12.9, 0.22),\n",
       " (132, 'pk', 'Pakistan', 796095, 770875, 25220, 199085847, 1.46, 22.58, 6.49, 1.54),\n",
       " (179, 'tu', 'Turkey', 783562, 769632, 13930, 79414269, 1.26, 16.33, 5.88, 2.16),\n",
       " (28, 'bm', 'Burma', 676578, 653508, 23070, 56320206, 1.01, 18.39, 7.96, 0.28),\n",
       " (1, 'af', 'Afghanistan', 652230, 652230, 0, 32564342, 2.32, 38.57, 13.89, 1.51),\n",
       " (61, 'fr', 'France', 643801, 640427, 3374, 66553766, 0.43, 12.38, 9.16, 1.09),\n",
       " (183, 'up', 'Ukraine', 603550, 579330, 24220, 44429471, 0.6, 10.72, 14.46, 2.25),\n",
       " (88, 'ke', 'Kenya', 580367, 569140, 11227, 45925301, 1.93, 26.4, 6.89, 0.22)]"
      ]
     },
     "execution_count": 32,
     "metadata": {},
     "output_type": "execute_result"
    }
   ],
   "source": [
    "%%sql\n",
    "select *\n",
    "    from facts\n",
    "    where population > (select AVG(population)\n",
    "                       from facts\n",
    "                       where name <> 'World') and\n",
    "    area > (select AVG(area) \n",
    "           from facts\n",
    "           where name <> 'World')\n",
    "    order by area desc;"
   ]
  }
 ],
 "metadata": {
  "kernelspec": {
   "display_name": "Python 3",
   "language": "python",
   "name": "python3"
  },
  "language_info": {
   "codemirror_mode": {
    "name": "ipython",
    "version": 3
   },
   "file_extension": ".py",
   "mimetype": "text/x-python",
   "name": "python",
   "nbconvert_exporter": "python",
   "pygments_lexer": "ipython3",
   "version": "3.4.3"
  }
 },
 "nbformat": 4,
 "nbformat_minor": 2
}
